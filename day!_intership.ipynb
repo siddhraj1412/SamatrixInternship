{
  "nbformat": 4,
  "nbformat_minor": 0,
  "metadata": {
    "colab": {
      "provenance": []
    },
    "kernelspec": {
      "name": "python3",
      "display_name": "Python 3"
    },
    "language_info": {
      "name": "python"
    }
  },
  "cells": [
    {
      "cell_type": "code",
      "execution_count": null,
      "metadata": {
        "id": "A6DQntrlwT3F"
      },
      "outputs": [],
      "source": [
        "#### Import data / data prepration"
      ]
    },
    {
      "cell_type": "code",
      "source": [
        "!pip install --quiet yfinance"
      ],
      "metadata": {
        "id": "ULVez_G74eLG"
      },
      "execution_count": null,
      "outputs": []
    },
    {
      "cell_type": "code",
      "source": [
        "import pandas as pd\n",
        "import numpy as np\n",
        "import matplotlib.pyplot as plt\n",
        "import seaborn as sns\n",
        "from pandas_datareader import data as pdr\n",
        "import datetime as dt\n",
        "from scipy import stats\n",
        "import yfinance as yf  ### this is for fetching our data\n",
        "import time\n",
        "\n",
        "sns.set_style('whitegrid')  ## provide grid structure\n",
        "%matplotlib inline"
      ],
      "metadata": {
        "id": "UiPEiObv4t5u"
      },
      "execution_count": null,
      "outputs": []
    },
    {
      "cell_type": "markdown",
      "source": [
        "### Download our data"
      ],
      "metadata": {
        "id": "9m0OIBce56TG"
      }
    },
    {
      "cell_type": "code",
      "source": [
        "# tickers = ['AAPL','MSFT','GOOGL','AMZN']\n",
        "# weights = np.array([0.25,0.25,0.25,0.25])\n",
        "\n",
        "# start = dt.datetime(2020,1,1)\n",
        "# end = dt.datetime.today()\n",
        "\n",
        "# price = pd.DataFrame(index=pd.date_range(start, end))\n",
        "# print(price)\n",
        "\n",
        "\n"
      ],
      "metadata": {
        "id": "PaDGll7G5wEj"
      },
      "execution_count": null,
      "outputs": []
    },
    {
      "cell_type": "code",
      "source": [
        "ticker = ['AAPL','MSFT','GOOGL','AMZN']\n",
        "weights = np.array([0.25,0.25,0.25,0.25])\n",
        "\n",
        "start = dt.datetime(2020,1,1)\n",
        "end = dt.datetime.today()\n",
        "\n",
        "price = pd.DataFrame(index=pd.date_range(start,end))\n",
        "\n",
        "# print(price)\n",
        "\n",
        "for t in ticker:\n",
        "  print(f\"fetching{ticker}\",end = \"\")\n",
        "  try:\n",
        "    ## featching the data\n",
        "    df = yf.Ticker(ticker).history(start=start.strftime(\"%Y-%m-%d\"),end = end.strftime(\"%Y-%m-%d\"),auto_adjust=True,)\n",
        "    series = df['Close']\n",
        "    print(\"Y finance \",end=\"\")\n",
        "  except Exception as e:\n",
        "    print(f\"X yfinance ({e}); falling back to Stooq\")\n",
        "    df2 = pdr.DataReader(ticker,'stooq',start,end)\n",
        "    df2 = df2.sort_index()\n",
        "    series= df2['Close']\n",
        "\n",
        "  price[ticker] = series\n",
        "  time.sleep(1)\n",
        "\n",
        "price = price.dropna(how='all').ffill().bfill()\n",
        "print(price.tail())"
      ],
      "metadata": {
        "colab": {
          "base_uri": "https://localhost:8080/"
        },
        "id": "mE_lse1sFycV",
        "outputId": "c730e4d7-8db3-469d-c449-b60f49a965f8"
      },
      "execution_count": null,
      "outputs": [
        {
          "output_type": "stream",
          "name": "stdout",
          "text": [
            "fetching['AAPL', 'MSFT', 'GOOGL', 'AMZN']X yfinance ('list' object has no attribute 'upper'); falling back to Stooq\n",
            "fetching['AAPL', 'MSFT', 'GOOGL', 'AMZN']X yfinance ('list' object has no attribute 'upper'); falling back to Stooq\n",
            "fetching['AAPL', 'MSFT', 'GOOGL', 'AMZN']X yfinance ('list' object has no attribute 'upper'); falling back to Stooq\n",
            "fetching['AAPL', 'MSFT', 'GOOGL', 'AMZN']X yfinance ('list' object has no attribute 'upper'); falling back to Stooq\n",
            "              AAPL    MSFT   GOOGL    AMZN\n",
            "2025-05-14  212.33  452.94  165.37  210.25\n",
            "2025-05-15  211.45  453.13  163.96  205.17\n",
            "2025-05-16  211.26  454.27  166.19  205.59\n",
            "2025-05-19  208.78  458.87  166.54  206.16\n",
            "2025-05-20  206.86  458.17  163.98  204.07\n"
          ]
        }
      ]
    },
    {
      "cell_type": "markdown",
      "source": [
        "### compute log return"
      ],
      "metadata": {
        "id": "PJh3kDK4Gfm3"
      }
    },
    {
      "cell_type": "code",
      "source": [
        "# log-return = ln(P_t / P_{t-1})\n",
        "logR = np.log(price / price.shift(1)).dropna()\n",
        "logR.head()"
      ],
      "metadata": {
        "colab": {
          "base_uri": "https://localhost:8080/",
          "height": 206
        },
        "id": "8XafeOCYGRnu",
        "outputId": "c05cdb7f-9696-4387-8f14-2ee740563c4f"
      },
      "execution_count": null,
      "outputs": [
        {
          "output_type": "execute_result",
          "data": {
            "text/plain": [
              "                AAPL      MSFT     GOOGL      AMZN\n",
              "2020-01-03 -0.009737 -0.012360 -0.005243 -0.012213\n",
              "2020-01-06  0.007879  0.002580  0.026304  0.014776\n",
              "2020-01-07 -0.004666 -0.009299 -0.001935  0.002089\n",
              "2020-01-08  0.015943  0.016008  0.007094 -0.007839\n",
              "2020-01-09  0.021054  0.012240  0.010441  0.004788"
            ],
            "text/html": [
              "\n",
              "  <div id=\"df-e9f42542-4120-4d28-b2bf-bfb8cf71fda9\" class=\"colab-df-container\">\n",
              "    <div>\n",
              "<style scoped>\n",
              "    .dataframe tbody tr th:only-of-type {\n",
              "        vertical-align: middle;\n",
              "    }\n",
              "\n",
              "    .dataframe tbody tr th {\n",
              "        vertical-align: top;\n",
              "    }\n",
              "\n",
              "    .dataframe thead th {\n",
              "        text-align: right;\n",
              "    }\n",
              "</style>\n",
              "<table border=\"1\" class=\"dataframe\">\n",
              "  <thead>\n",
              "    <tr style=\"text-align: right;\">\n",
              "      <th></th>\n",
              "      <th>AAPL</th>\n",
              "      <th>MSFT</th>\n",
              "      <th>GOOGL</th>\n",
              "      <th>AMZN</th>\n",
              "    </tr>\n",
              "  </thead>\n",
              "  <tbody>\n",
              "    <tr>\n",
              "      <th>2020-01-03</th>\n",
              "      <td>-0.009737</td>\n",
              "      <td>-0.012360</td>\n",
              "      <td>-0.005243</td>\n",
              "      <td>-0.012213</td>\n",
              "    </tr>\n",
              "    <tr>\n",
              "      <th>2020-01-06</th>\n",
              "      <td>0.007879</td>\n",
              "      <td>0.002580</td>\n",
              "      <td>0.026304</td>\n",
              "      <td>0.014776</td>\n",
              "    </tr>\n",
              "    <tr>\n",
              "      <th>2020-01-07</th>\n",
              "      <td>-0.004666</td>\n",
              "      <td>-0.009299</td>\n",
              "      <td>-0.001935</td>\n",
              "      <td>0.002089</td>\n",
              "    </tr>\n",
              "    <tr>\n",
              "      <th>2020-01-08</th>\n",
              "      <td>0.015943</td>\n",
              "      <td>0.016008</td>\n",
              "      <td>0.007094</td>\n",
              "      <td>-0.007839</td>\n",
              "    </tr>\n",
              "    <tr>\n",
              "      <th>2020-01-09</th>\n",
              "      <td>0.021054</td>\n",
              "      <td>0.012240</td>\n",
              "      <td>0.010441</td>\n",
              "      <td>0.004788</td>\n",
              "    </tr>\n",
              "  </tbody>\n",
              "</table>\n",
              "</div>\n",
              "    <div class=\"colab-df-buttons\">\n",
              "\n",
              "  <div class=\"colab-df-container\">\n",
              "    <button class=\"colab-df-convert\" onclick=\"convertToInteractive('df-e9f42542-4120-4d28-b2bf-bfb8cf71fda9')\"\n",
              "            title=\"Convert this dataframe to an interactive table.\"\n",
              "            style=\"display:none;\">\n",
              "\n",
              "  <svg xmlns=\"http://www.w3.org/2000/svg\" height=\"24px\" viewBox=\"0 -960 960 960\">\n",
              "    <path d=\"M120-120v-720h720v720H120Zm60-500h600v-160H180v160Zm220 220h160v-160H400v160Zm0 220h160v-160H400v160ZM180-400h160v-160H180v160Zm440 0h160v-160H620v160ZM180-180h160v-160H180v160Zm440 0h160v-160H620v160Z\"/>\n",
              "  </svg>\n",
              "    </button>\n",
              "\n",
              "  <style>\n",
              "    .colab-df-container {\n",
              "      display:flex;\n",
              "      gap: 12px;\n",
              "    }\n",
              "\n",
              "    .colab-df-convert {\n",
              "      background-color: #E8F0FE;\n",
              "      border: none;\n",
              "      border-radius: 50%;\n",
              "      cursor: pointer;\n",
              "      display: none;\n",
              "      fill: #1967D2;\n",
              "      height: 32px;\n",
              "      padding: 0 0 0 0;\n",
              "      width: 32px;\n",
              "    }\n",
              "\n",
              "    .colab-df-convert:hover {\n",
              "      background-color: #E2EBFA;\n",
              "      box-shadow: 0px 1px 2px rgba(60, 64, 67, 0.3), 0px 1px 3px 1px rgba(60, 64, 67, 0.15);\n",
              "      fill: #174EA6;\n",
              "    }\n",
              "\n",
              "    .colab-df-buttons div {\n",
              "      margin-bottom: 4px;\n",
              "    }\n",
              "\n",
              "    [theme=dark] .colab-df-convert {\n",
              "      background-color: #3B4455;\n",
              "      fill: #D2E3FC;\n",
              "    }\n",
              "\n",
              "    [theme=dark] .colab-df-convert:hover {\n",
              "      background-color: #434B5C;\n",
              "      box-shadow: 0px 1px 3px 1px rgba(0, 0, 0, 0.15);\n",
              "      filter: drop-shadow(0px 1px 2px rgba(0, 0, 0, 0.3));\n",
              "      fill: #FFFFFF;\n",
              "    }\n",
              "  </style>\n",
              "\n",
              "    <script>\n",
              "      const buttonEl =\n",
              "        document.querySelector('#df-e9f42542-4120-4d28-b2bf-bfb8cf71fda9 button.colab-df-convert');\n",
              "      buttonEl.style.display =\n",
              "        google.colab.kernel.accessAllowed ? 'block' : 'none';\n",
              "\n",
              "      async function convertToInteractive(key) {\n",
              "        const element = document.querySelector('#df-e9f42542-4120-4d28-b2bf-bfb8cf71fda9');\n",
              "        const dataTable =\n",
              "          await google.colab.kernel.invokeFunction('convertToInteractive',\n",
              "                                                    [key], {});\n",
              "        if (!dataTable) return;\n",
              "\n",
              "        const docLinkHtml = 'Like what you see? Visit the ' +\n",
              "          '<a target=\"_blank\" href=https://colab.research.google.com/notebooks/data_table.ipynb>data table notebook</a>'\n",
              "          + ' to learn more about interactive tables.';\n",
              "        element.innerHTML = '';\n",
              "        dataTable['output_type'] = 'display_data';\n",
              "        await google.colab.output.renderOutput(dataTable, element);\n",
              "        const docLink = document.createElement('div');\n",
              "        docLink.innerHTML = docLinkHtml;\n",
              "        element.appendChild(docLink);\n",
              "      }\n",
              "    </script>\n",
              "  </div>\n",
              "\n",
              "\n",
              "    <div id=\"df-554b468f-8f07-4710-857c-a8bed9d90ffc\">\n",
              "      <button class=\"colab-df-quickchart\" onclick=\"quickchart('df-554b468f-8f07-4710-857c-a8bed9d90ffc')\"\n",
              "                title=\"Suggest charts\"\n",
              "                style=\"display:none;\">\n",
              "\n",
              "<svg xmlns=\"http://www.w3.org/2000/svg\" height=\"24px\"viewBox=\"0 0 24 24\"\n",
              "     width=\"24px\">\n",
              "    <g>\n",
              "        <path d=\"M19 3H5c-1.1 0-2 .9-2 2v14c0 1.1.9 2 2 2h14c1.1 0 2-.9 2-2V5c0-1.1-.9-2-2-2zM9 17H7v-7h2v7zm4 0h-2V7h2v10zm4 0h-2v-4h2v4z\"/>\n",
              "    </g>\n",
              "</svg>\n",
              "      </button>\n",
              "\n",
              "<style>\n",
              "  .colab-df-quickchart {\n",
              "      --bg-color: #E8F0FE;\n",
              "      --fill-color: #1967D2;\n",
              "      --hover-bg-color: #E2EBFA;\n",
              "      --hover-fill-color: #174EA6;\n",
              "      --disabled-fill-color: #AAA;\n",
              "      --disabled-bg-color: #DDD;\n",
              "  }\n",
              "\n",
              "  [theme=dark] .colab-df-quickchart {\n",
              "      --bg-color: #3B4455;\n",
              "      --fill-color: #D2E3FC;\n",
              "      --hover-bg-color: #434B5C;\n",
              "      --hover-fill-color: #FFFFFF;\n",
              "      --disabled-bg-color: #3B4455;\n",
              "      --disabled-fill-color: #666;\n",
              "  }\n",
              "\n",
              "  .colab-df-quickchart {\n",
              "    background-color: var(--bg-color);\n",
              "    border: none;\n",
              "    border-radius: 50%;\n",
              "    cursor: pointer;\n",
              "    display: none;\n",
              "    fill: var(--fill-color);\n",
              "    height: 32px;\n",
              "    padding: 0;\n",
              "    width: 32px;\n",
              "  }\n",
              "\n",
              "  .colab-df-quickchart:hover {\n",
              "    background-color: var(--hover-bg-color);\n",
              "    box-shadow: 0 1px 2px rgba(60, 64, 67, 0.3), 0 1px 3px 1px rgba(60, 64, 67, 0.15);\n",
              "    fill: var(--button-hover-fill-color);\n",
              "  }\n",
              "\n",
              "  .colab-df-quickchart-complete:disabled,\n",
              "  .colab-df-quickchart-complete:disabled:hover {\n",
              "    background-color: var(--disabled-bg-color);\n",
              "    fill: var(--disabled-fill-color);\n",
              "    box-shadow: none;\n",
              "  }\n",
              "\n",
              "  .colab-df-spinner {\n",
              "    border: 2px solid var(--fill-color);\n",
              "    border-color: transparent;\n",
              "    border-bottom-color: var(--fill-color);\n",
              "    animation:\n",
              "      spin 1s steps(1) infinite;\n",
              "  }\n",
              "\n",
              "  @keyframes spin {\n",
              "    0% {\n",
              "      border-color: transparent;\n",
              "      border-bottom-color: var(--fill-color);\n",
              "      border-left-color: var(--fill-color);\n",
              "    }\n",
              "    20% {\n",
              "      border-color: transparent;\n",
              "      border-left-color: var(--fill-color);\n",
              "      border-top-color: var(--fill-color);\n",
              "    }\n",
              "    30% {\n",
              "      border-color: transparent;\n",
              "      border-left-color: var(--fill-color);\n",
              "      border-top-color: var(--fill-color);\n",
              "      border-right-color: var(--fill-color);\n",
              "    }\n",
              "    40% {\n",
              "      border-color: transparent;\n",
              "      border-right-color: var(--fill-color);\n",
              "      border-top-color: var(--fill-color);\n",
              "    }\n",
              "    60% {\n",
              "      border-color: transparent;\n",
              "      border-right-color: var(--fill-color);\n",
              "    }\n",
              "    80% {\n",
              "      border-color: transparent;\n",
              "      border-right-color: var(--fill-color);\n",
              "      border-bottom-color: var(--fill-color);\n",
              "    }\n",
              "    90% {\n",
              "      border-color: transparent;\n",
              "      border-bottom-color: var(--fill-color);\n",
              "    }\n",
              "  }\n",
              "</style>\n",
              "\n",
              "      <script>\n",
              "        async function quickchart(key) {\n",
              "          const quickchartButtonEl =\n",
              "            document.querySelector('#' + key + ' button');\n",
              "          quickchartButtonEl.disabled = true;  // To prevent multiple clicks.\n",
              "          quickchartButtonEl.classList.add('colab-df-spinner');\n",
              "          try {\n",
              "            const charts = await google.colab.kernel.invokeFunction(\n",
              "                'suggestCharts', [key], {});\n",
              "          } catch (error) {\n",
              "            console.error('Error during call to suggestCharts:', error);\n",
              "          }\n",
              "          quickchartButtonEl.classList.remove('colab-df-spinner');\n",
              "          quickchartButtonEl.classList.add('colab-df-quickchart-complete');\n",
              "        }\n",
              "        (() => {\n",
              "          let quickchartButtonEl =\n",
              "            document.querySelector('#df-554b468f-8f07-4710-857c-a8bed9d90ffc button');\n",
              "          quickchartButtonEl.style.display =\n",
              "            google.colab.kernel.accessAllowed ? 'block' : 'none';\n",
              "        })();\n",
              "      </script>\n",
              "    </div>\n",
              "\n",
              "    </div>\n",
              "  </div>\n"
            ],
            "application/vnd.google.colaboratory.intrinsic+json": {
              "type": "dataframe",
              "variable_name": "logR",
              "summary": "{\n  \"name\": \"logR\",\n  \"rows\": 1352,\n  \"fields\": [\n    {\n      \"column\": \"AAPL\",\n      \"properties\": {\n        \"dtype\": \"number\",\n        \"std\": 0.020615061688271836,\n        \"min\": -0.1376927064460318,\n        \"max\": 0.1426174108719208,\n        \"num_unique_values\": 1349,\n        \"samples\": [\n          0.0022619479268280295,\n          -0.004125265749899086,\n          -0.001412421301067447\n        ],\n        \"semantic_type\": \"\",\n        \"description\": \"\"\n      }\n    },\n    {\n      \"column\": \"MSFT\",\n      \"properties\": {\n        \"dtype\": \"number\",\n        \"std\": 0.01930900453927137,\n        \"min\": -0.159548979767852,\n        \"max\": 0.13297171499172128,\n        \"num_unique_values\": 1351,\n        \"samples\": [\n          -0.0008730524211358815,\n          0.004386756847761609,\n          0.016775213490699593\n        ],\n        \"semantic_type\": \"\",\n        \"description\": \"\"\n      }\n    },\n    {\n      \"column\": \"GOOGL\",\n      \"properties\": {\n        \"dtype\": \"number\",\n        \"std\": 0.02075857230701549,\n        \"min\": -0.12368486567039876,\n        \"max\": 0.09734517980694847,\n        \"num_unique_values\": 1351,\n        \"samples\": [\n          -0.0016586338961433822,\n          0.004452759448063212,\n          0.007796510563698362\n        ],\n        \"semantic_type\": \"\",\n        \"description\": \"\"\n      }\n    },\n    {\n      \"column\": \"AMZN\",\n      \"properties\": {\n        \"dtype\": \"number\",\n        \"std\": 0.02290191067641285,\n        \"min\": -0.15139046973548317,\n        \"max\": 0.12694854705521322,\n        \"num_unique_values\": 1350,\n        \"samples\": [\n          0.01162924807889829,\n          -0.0017093517468521606,\n          0.010107838513015246\n        ],\n        \"semantic_type\": \"\",\n        \"description\": \"\"\n      }\n    }\n  ]\n}"
            }
          },
          "metadata": {},
          "execution_count": 8
        }
      ]
    },
    {
      "cell_type": "code",
      "source": [
        "# Plot one example series for visual Check\n",
        "# You’ll see a bell-shaped histogram.\n",
        "logR['AAPL'].hist(bins=50, alpha=0.7)\n",
        "plt.title('AAPL Daily Log-Return Distribution')\n",
        "plt.show()"
      ],
      "metadata": {
        "colab": {
          "base_uri": "https://localhost:8080/",
          "height": 452
        },
        "id": "xo9K9g9q6NBZ",
        "outputId": "2523b4d1-7458-4deb-b650-495aae1aa0ea"
      },
      "execution_count": null,
      "outputs": [
        {
          "output_type": "display_data",
          "data": {
            "text/plain": [
              "<Figure size 640x480 with 1 Axes>"
            ],
            "image/png": "[encoded data removed]"
          },
          "metadata": {}
        }
      ]
    },
    {
      "cell_type": "markdown",
      "source": [
        "Mean: average daily return\n",
        "\n",
        "Variance: how much returns vary\n",
        "\n",
        "Skewness: asymmetry (positive skew → fat right tail)\n",
        "\n",
        "Kurtosis: tail-heaviness (high kurtosis → more extreme days)"
      ],
      "metadata": {
        "id": "79HTcpn0Hh3r"
      }
    },
    {
      "cell_type": "code",
      "source": [
        "summary = pd.DataFrame({\n",
        "    'Mean':    logR.mean(),\n",
        "    'Variance':logR.var(),\n",
        "    'Skewness':logR.skew(),\n",
        "    'Kurtosis':logR.kurtosis()\n",
        "})\n",
        "summary"
      ],
      "metadata": {
        "colab": {
          "base_uri": "https://localhost:8080/",
          "height": 175
        },
        "id": "SRHFqtitA9od",
        "outputId": "90816465-c771-48b2-e7dd-e122b575798c"
      },
      "execution_count": null,
      "outputs": [
        {
          "output_type": "execute_result",
          "data": {
            "text/plain": [
              "           Mean  Variance  Skewness  Kurtosis\n",
              "AAPL   0.000773  0.000425  0.018529  6.231009\n",
              "MSFT   0.000808  0.000373 -0.165383  7.423263\n",
              "GOOGL  0.000649  0.000431 -0.225541  3.643160\n",
              "AMZN   0.000566  0.000524 -0.069903  4.156126"
            ],
            "text/html": [
              "\n",
              "  <div id=\"df-d883bb91-05ac-41e4-84a6-3c8e69be0130\" class=\"colab-df-container\">\n",
              "    <div>\n",
              "<style scoped>\n",
              "    .dataframe tbody tr th:only-of-type {\n",
              "        vertical-align: middle;\n",
              "    }\n",
              "\n",
              "    .dataframe tbody tr th {\n",
              "        vertical-align: top;\n",
              "    }\n",
              "\n",
              "    .dataframe thead th {\n",
              "        text-align: right;\n",
              "    }\n",
              "</style>\n",
              "<table border=\"1\" class=\"dataframe\">\n",
              "  <thead>\n",
              "    <tr style=\"text-align: right;\">\n",
              "      <th></th>\n",
              "      <th>Mean</th>\n",
              "      <th>Variance</th>\n",
              "      <th>Skewness</th>\n",
              "      <th>Kurtosis</th>\n",
              "    </tr>\n",
              "  </thead>\n",
              "  <tbody>\n",
              "    <tr>\n",
              "      <th>AAPL</th>\n",
              "      <td>0.000773</td>\n",
              "      <td>0.000425</td>\n",
              "      <td>0.018529</td>\n",
              "      <td>6.231009</td>\n",
              "    </tr>\n",
              "    <tr>\n",
              "      <th>MSFT</th>\n",
              "      <td>0.000808</td>\n",
              "      <td>0.000373</td>\n",
              "      <td>-0.165383</td>\n",
              "      <td>7.423263</td>\n",
              "    </tr>\n",
              "    <tr>\n",
              "      <th>GOOGL</th>\n",
              "      <td>0.000649</td>\n",
              "      <td>0.000431</td>\n",
              "      <td>-0.225541</td>\n",
              "      <td>3.643160</td>\n",
              "    </tr>\n",
              "    <tr>\n",
              "      <th>AMZN</th>\n",
              "      <td>0.000566</td>\n",
              "      <td>0.000524</td>\n",
              "      <td>-0.069903</td>\n",
              "      <td>4.156126</td>\n",
              "    </tr>\n",
              "  </tbody>\n",
              "</table>\n",
              "</div>\n",
              "    <div class=\"colab-df-buttons\">\n",
              "\n",
              "  <div class=\"colab-df-container\">\n",
              "    <button class=\"colab-df-convert\" onclick=\"convertToInteractive('df-d883bb91-05ac-41e4-84a6-3c8e69be0130')\"\n",
              "            title=\"Convert this dataframe to an interactive table.\"\n",
              "            style=\"display:none;\">\n",
              "\n",
              "  <svg xmlns=\"http://www.w3.org/2000/svg\" height=\"24px\" viewBox=\"0 -960 960 960\">\n",
              "    <path d=\"M120-120v-720h720v720H120Zm60-500h600v-160H180v160Zm220 220h160v-160H400v160Zm0 220h160v-160H400v160ZM180-400h160v-160H180v160Zm440 0h160v-160H620v160ZM180-180h160v-160H180v160Zm440 0h160v-160H620v160Z\"/>\n",
              "  </svg>\n",
              "    </button>\n",
              "\n",
              "  <style>\n",
              "    .colab-df-container {\n",
              "      display:flex;\n",
              "      gap: 12px;\n",
              "    }\n",
              "\n",
              "    .colab-df-convert {\n",
              "      background-color: #E8F0FE;\n",
              "      border: none;\n",
              "      border-radius: 50%;\n",
              "      cursor: pointer;\n",
              "      display: none;\n",
              "      fill: #1967D2;\n",
              "      height: 32px;\n",
              "      padding: 0 0 0 0;\n",
              "      width: 32px;\n",
              "    }\n",
              "\n",
              "    .colab-df-convert:hover {\n",
              "      background-color: #E2EBFA;\n",
              "      box-shadow: 0px 1px 2px rgba(60, 64, 67, 0.3), 0px 1px 3px 1px rgba(60, 64, 67, 0.15);\n",
              "      fill: #174EA6;\n",
              "    }\n",
              "\n",
              "    .colab-df-buttons div {\n",
              "      margin-bottom: 4px;\n",
              "    }\n",
              "\n",
              "    [theme=dark] .colab-df-convert {\n",
              "      background-color: #3B4455;\n",
              "      fill: #D2E3FC;\n",
              "    }\n",
              "\n",
              "    [theme=dark] .colab-df-convert:hover {\n",
              "      background-color: #434B5C;\n",
              "      box-shadow: 0px 1px 3px 1px rgba(0, 0, 0, 0.15);\n",
              "      filter: drop-shadow(0px 1px 2px rgba(0, 0, 0, 0.3));\n",
              "      fill: #FFFFFF;\n",
              "    }\n",
              "  </style>\n",
              "\n",
              "    <script>\n",
              "      const buttonEl =\n",
              "        document.querySelector('#df-d883bb91-05ac-41e4-84a6-3c8e69be0130 button.colab-df-convert');\n",
              "      buttonEl.style.display =\n",
              "        google.colab.kernel.accessAllowed ? 'block' : 'none';\n",
              "\n",
              "      async function convertToInteractive(key) {\n",
              "        const element = document.querySelector('#df-d883bb91-05ac-41e4-84a6-3c8e69be0130');\n",
              "        const dataTable =\n",
              "          await google.colab.kernel.invokeFunction('convertToInteractive',\n",
              "                                                    [key], {});\n",
              "        if (!dataTable) return;\n",
              "\n",
              "        const docLinkHtml = 'Like what you see? Visit the ' +\n",
              "          '<a target=\"_blank\" href=https://colab.research.google.com/notebooks/data_table.ipynb>data table notebook</a>'\n",
              "          + ' to learn more about interactive tables.';\n",
              "        element.innerHTML = '';\n",
              "        dataTable['output_type'] = 'display_data';\n",
              "        await google.colab.output.renderOutput(dataTable, element);\n",
              "        const docLink = document.createElement('div');\n",
              "        docLink.innerHTML = docLinkHtml;\n",
              "        element.appendChild(docLink);\n",
              "      }\n",
              "    </script>\n",
              "  </div>\n",
              "\n",
              "\n",
              "    <div id=\"df-6401d221-299d-4a2d-9fdb-bd30877aecac\">\n",
              "      <button class=\"colab-df-quickchart\" onclick=\"quickchart('df-6401d221-299d-4a2d-9fdb-bd30877aecac')\"\n",
              "                title=\"Suggest charts\"\n",
              "                style=\"display:none;\">\n",
              "\n",
              "<svg xmlns=\"http://www.w3.org/2000/svg\" height=\"24px\"viewBox=\"0 0 24 24\"\n",
              "     width=\"24px\">\n",
              "    <g>\n",
              "        <path d=\"M19 3H5c-1.1 0-2 .9-2 2v14c0 1.1.9 2 2 2h14c1.1 0 2-.9 2-2V5c0-1.1-.9-2-2-2zM9 17H7v-7h2v7zm4 0h-2V7h2v10zm4 0h-2v-4h2v4z\"/>\n",
              "    </g>\n",
              "</svg>\n",
              "      </button>\n",
              "\n",
              "<style>\n",
              "  .colab-df-quickchart {\n",
              "      --bg-color: #E8F0FE;\n",
              "      --fill-color: #1967D2;\n",
              "      --hover-bg-color: #E2EBFA;\n",
              "      --hover-fill-color: #174EA6;\n",
              "      --disabled-fill-color: #AAA;\n",
              "      --disabled-bg-color: #DDD;\n",
              "  }\n",
              "\n",
              "  [theme=dark] .colab-df-quickchart {\n",
              "      --bg-color: #3B4455;\n",
              "      --fill-color: #D2E3FC;\n",
              "      --hover-bg-color: #434B5C;\n",
              "      --hover-fill-color: #FFFFFF;\n",
              "      --disabled-bg-color: #3B4455;\n",
              "      --disabled-fill-color: #666;\n",
              "  }\n",
              "\n",
              "  .colab-df-quickchart {\n",
              "    background-color: var(--bg-color);\n",
              "    border: none;\n",
              "    border-radius: 50%;\n",
              "    cursor: pointer;\n",
              "    display: none;\n",
              "    fill: var(--fill-color);\n",
              "    height: 32px;\n",
              "    padding: 0;\n",
              "    width: 32px;\n",
              "  }\n",
              "\n",
              "  .colab-df-quickchart:hover {\n",
              "    background-color: var(--hover-bg-color);\n",
              "    box-shadow: 0 1px 2px rgba(60, 64, 67, 0.3), 0 1px 3px 1px rgba(60, 64, 67, 0.15);\n",
              "    fill: var(--button-hover-fill-color);\n",
              "  }\n",
              "\n",
              "  .colab-df-quickchart-complete:disabled,\n",
              "  .colab-df-quickchart-complete:disabled:hover {\n",
              "    background-color: var(--disabled-bg-color);\n",
              "    fill: var(--disabled-fill-color);\n",
              "    box-shadow: none;\n",
              "  }\n",
              "\n",
              "  .colab-df-spinner {\n",
              "    border: 2px solid var(--fill-color);\n",
              "    border-color: transparent;\n",
              "    border-bottom-color: var(--fill-color);\n",
              "    animation:\n",
              "      spin 1s steps(1) infinite;\n",
              "  }\n",
              "\n",
              "  @keyframes spin {\n",
              "    0% {\n",
              "      border-color: transparent;\n",
              "      border-bottom-color: var(--fill-color);\n",
              "      border-left-color: var(--fill-color);\n",
              "    }\n",
              "    20% {\n",
              "      border-color: transparent;\n",
              "      border-left-color: var(--fill-color);\n",
              "      border-top-color: var(--fill-color);\n",
              "    }\n",
              "    30% {\n",
              "      border-color: transparent;\n",
              "      border-left-color: var(--fill-color);\n",
              "      border-top-color: var(--fill-color);\n",
              "      border-right-color: var(--fill-color);\n",
              "    }\n",
              "    40% {\n",
              "      border-color: transparent;\n",
              "      border-right-color: var(--fill-color);\n",
              "      border-top-color: var(--fill-color);\n",
              "    }\n",
              "    60% {\n",
              "      border-color: transparent;\n",
              "      border-right-color: var(--fill-color);\n",
              "    }\n",
              "    80% {\n",
              "      border-color: transparent;\n",
              "      border-right-color: var(--fill-color);\n",
              "      border-bottom-color: var(--fill-color);\n",
              "    }\n",
              "    90% {\n",
              "      border-color: transparent;\n",
              "      border-bottom-color: var(--fill-color);\n",
              "    }\n",
              "  }\n",
              "</style>\n",
              "\n",
              "      <script>\n",
              "        async function quickchart(key) {\n",
              "          const quickchartButtonEl =\n",
              "            document.querySelector('#' + key + ' button');\n",
              "          quickchartButtonEl.disabled = true;  // To prevent multiple clicks.\n",
              "          quickchartButtonEl.classList.add('colab-df-spinner');\n",
              "          try {\n",
              "            const charts = await google.colab.kernel.invokeFunction(\n",
              "                'suggestCharts', [key], {});\n",
              "          } catch (error) {\n",
              "            console.error('Error during call to suggestCharts:', error);\n",
              "          }\n",
              "          quickchartButtonEl.classList.remove('colab-df-spinner');\n",
              "          quickchartButtonEl.classList.add('colab-df-quickchart-complete');\n",
              "        }\n",
              "        (() => {\n",
              "          let quickchartButtonEl =\n",
              "            document.querySelector('#df-6401d221-299d-4a2d-9fdb-bd30877aecac button');\n",
              "          quickchartButtonEl.style.display =\n",
              "            google.colab.kernel.accessAllowed ? 'block' : 'none';\n",
              "        })();\n",
              "      </script>\n",
              "    </div>\n",
              "\n",
              "  <div id=\"id_657103eb-66fe-423b-b09f-c3cc9a13e287\">\n",
              "    <style>\n",
              "      .colab-df-generate {\n",
              "        background-color: #E8F0FE;\n",
              "        border: none;\n",
              "        border-radius: 50%;\n",
              "        cursor: pointer;\n",
              "        display: none;\n",
              "        fill: #1967D2;\n",
              "        height: 32px;\n",
              "        padding: 0 0 0 0;\n",
              "        width: 32px;\n",
              "      }\n",
              "\n",
              "      .colab-df-generate:hover {\n",
              "        background-color: #E2EBFA;\n",
              "        box-shadow: 0px 1px 2px rgba(60, 64, 67, 0.3), 0px 1px 3px 1px rgba(60, 64, 67, 0.15);\n",
              "        fill: #174EA6;\n",
              "      }\n",
              "\n",
              "      [theme=dark] .colab-df-generate {\n",
              "        background-color: #3B4455;\n",
              "        fill: #D2E3FC;\n",
              "      }\n",
              "\n",
              "      [theme=dark] .colab-df-generate:hover {\n",
              "        background-color: #434B5C;\n",
              "        box-shadow: 0px 1px 3px 1px rgba(0, 0, 0, 0.15);\n",
              "        filter: drop-shadow(0px 1px 2px rgba(0, 0, 0, 0.3));\n",
              "        fill: #FFFFFF;\n",
              "      }\n",
              "    </style>\n",
              "    <button class=\"colab-df-generate\" onclick=\"generateWithVariable('summary')\"\n",
              "            title=\"Generate code using this dataframe.\"\n",
              "            style=\"display:none;\">\n",
              "\n",
              "  <svg xmlns=\"http://www.w3.org/2000/svg\" height=\"24px\"viewBox=\"0 0 24 24\"\n",
              "       width=\"24px\">\n",
              "    <path d=\"M7,19H8.4L18.45,9,17,7.55,7,17.6ZM5,21V16.75L18.45,3.32a2,2,0,0,1,2.83,0l1.4,1.43a1.91,1.91,0,0,1,.58,1.4,1.91,1.91,0,0,1-.58,1.4L9.25,21ZM18.45,9,17,7.55Zm-12,3A5.31,5.31,0,0,0,4.9,8.1,5.31,5.31,0,0,0,1,6.5,5.31,5.31,0,0,0,4.9,4.9,5.31,5.31,0,0,0,6.5,1,5.31,5.31,0,0,0,8.1,4.9,5.31,5.31,0,0,0,12,6.5,5.46,5.46,0,0,0,6.5,12Z\"/>\n",
              "  </svg>\n",
              "    </button>\n",
              "    <script>\n",
              "      (() => {\n",
              "      const buttonEl =\n",
              "        document.querySelector('#id_657103eb-66fe-423b-b09f-c3cc9a13e287 button.colab-df-generate');\n",
              "      buttonEl.style.display =\n",
              "        google.colab.kernel.accessAllowed ? 'block' : 'none';\n",
              "\n",
              "      buttonEl.onclick = () => {\n",
              "        google.colab.notebook.generateWithVariable('summary');\n",
              "      }\n",
              "      })();\n",
              "    </script>\n",
              "  </div>\n",
              "\n",
              "    </div>\n",
              "  </div>\n"
            ],
            "application/vnd.google.colaboratory.intrinsic+json": {
              "type": "dataframe",
              "variable_name": "summary",
              "summary": "{\n  \"name\": \"summary\",\n  \"rows\": 4,\n  \"fields\": [\n    {\n      \"column\": \"Mean\",\n      \"properties\": {\n        \"dtype\": \"number\",\n        \"std\": 0.00011190484538086825,\n        \"min\": 0.0005662974097153067,\n        \"max\": 0.0008082868651884037,\n        \"num_unique_values\": 4,\n        \"samples\": [\n          0.0008082868651884037,\n          0.0005662974097153067,\n          0.0007732835931077144\n        ],\n        \"semantic_type\": \"\",\n        \"description\": \"\"\n      }\n    },\n    {\n      \"column\": \"Variance\",\n      \"properties\": {\n        \"dtype\": \"number\",\n        \"std\": 6.310631347328905e-05,\n        \"min\": 0.0003728376562976023,\n        \"max\": 0.000524497512630393,\n        \"num_unique_values\": 4,\n        \"samples\": [\n          0.0003728376562976023,\n          0.000524497512630393,\n          0.0004249807684112533\n        ],\n        \"semantic_type\": \"\",\n        \"description\": \"\"\n      }\n    },\n    {\n      \"column\": \"Skewness\",\n      \"properties\": {\n        \"dtype\": \"number\",\n        \"std\": 0.10730490449072959,\n        \"min\": -0.2255407757496905,\n        \"max\": 0.0185285273248619,\n        \"num_unique_values\": 4,\n        \"samples\": [\n          -0.16538313363569698,\n          -0.06990258047209744,\n          0.0185285273248619\n        ],\n        \"semantic_type\": \"\",\n        \"description\": \"\"\n      }\n    },\n    {\n      \"column\": \"Kurtosis\",\n      \"properties\": {\n        \"dtype\": \"number\",\n        \"std\": 1.7713006791735657,\n        \"min\": 3.643159945884711,\n        \"max\": 7.423263080239313,\n        \"num_unique_values\": 4,\n        \"samples\": [\n          7.423263080239313,\n          4.1561255058455755,\n          6.231008685542281\n        ],\n        \"semantic_type\": \"\",\n        \"description\": \"\"\n      }\n    }\n  ]\n}"
            }
          },
          "metadata": {},
          "execution_count": 10
        }
      ]
    },
    {
      "cell_type": "markdown",
      "source": [
        "Mean (≈0.05–0.08%): On average each stock’s daily return was very small—about a few‐tenths of a percent gain per day.**bold text**\n",
        "\n",
        "Variance (≈0.0004): Typical daily swings are around √0.0004 ≃ 2%, so most days see moves of a couple percent.\n",
        "\n",
        "Skewness (near zero or slightly negative): Returns are roughly symmetric, with a small tendency toward bigger down‐moves than up‐moves.\n",
        "\n",
        "Kurtosis (>3): All four have “fat tails,” meaning they experience more extreme one‐day jumps or crashes than a normal bell curve would predict."
      ],
      "metadata": {
        "id": "Yq7hxWpOIYoj"
      }
    },
    {
      "cell_type": "code",
      "source": [
        "## calculate U and std deviation\n",
        "mu_norm, sigma_norm = logR.stack().mean(), logR.stack().std(ddof=1)\n",
        "# 95% CI for mean under Normal: μ ± z*·σ/√N\n",
        "N = logR.size\n",
        "z95 = stats.norm.ppf(0.975)\n",
        "ci_mu_norm = (mu_norm - z95*sigma_norm/np.sqrt(N),\n",
        "              mu_norm + z95*sigma_norm/np.sqrt(N))\n",
        "\n",
        "\n",
        "# 95% CI for σ via Chi-square:\n",
        "df = N-1\n",
        "chi2_low, chi2_high = stats.chi2.ppf([0.025,0.975], df)\n",
        "ci_sigma_norm = (sigma_norm*np.sqrt(df/chi2_high),\n",
        "                 sigma_norm*np.sqrt(df/chi2_low))\n",
        "\n",
        "print(\"Normal fit:\")\n",
        "print(f\"  μ = {mu_norm:.5f}, 95% CI {ci_mu_norm}\")\n",
        "print(f\"  σ = {sigma_norm:.5f}, 95% CI {ci_sigma_norm}\")"
      ],
      "metadata": {
        "colab": {
          "base_uri": "https://localhost:8080/"
        },
        "id": "f5km9aOfIUJ7",
        "outputId": "034ea2e9-8c41-4557-a913-fa39b991adad"
      },
      "execution_count": null,
      "outputs": [
        {
          "output_type": "stream",
          "name": "stdout",
          "text": [
            "Normal fit:\n",
            "  μ = 0.00070, 95% CI (np.float64(0.00014139280198295504), np.float64(0.0012570579483831934))\n",
            "  σ = 0.02093, 95% CI (np.float64(0.020543110169780183), np.float64(0.021332338016669325))\n"
          ]
        }
      ]
    },
    {
      "cell_type": "code",
      "source": [
        "# 4.2 Fit Student’s t\n",
        "\n",
        "# Fit t-distribution to the pooled returns\n",
        "# returns_flat = all asset returns concatenated\n",
        "returns_flat = logR.stack().values\n",
        "df_t, mu_t, sigma_t = stats.t.fit(returns_flat)"
      ],
      "metadata": {
        "id": "Ortf-9ziQn3I"
      },
      "execution_count": null,
      "outputs": []
    },
    {
      "cell_type": "code",
      "source": [
        "print(mu_t)"
      ],
      "metadata": {
        "colab": {
          "base_uri": "https://localhost:8080/"
        },
        "id": "od9F2mirWVSW",
        "outputId": "bcfa9b0d-0439-4b37-d273-e6d828f5e982"
      },
      "execution_count": null,
      "outputs": [
        {
          "output_type": "stream",
          "name": "stdout",
          "text": [
            "0.0010513834497300478\n"
          ]
        }
      ]
    },
    {
      "cell_type": "code",
      "source": [
        "B = 1000\n",
        "estimates = np.array([stats.t.fit(np.random.choice(returns_flat, size=N, replace=True))\n",
        "                      for _ in range(B)])\n",
        "ci_mu_t    = np.percentile(estimates[:,1], [2.5,97.5])\n",
        "ci_sigma_t = np.percentile(estimates[:,2], [2.5,97.5])"
      ],
      "metadata": {
        "id": "JzerLDjsWY4g"
      },
      "execution_count": null,
      "outputs": []
    },
    {
      "cell_type": "code",
      "source": [
        "print(\"\\nStudent’s t fit:\")\n",
        "print(f\"  df = {df_t:.1f}, μ = {mu_t:.5f},  σ = {sigma_t:.5f}\")\n",
        "print(f\"  95% CI for μ (bootstrap): {ci_mu_t}\")\n",
        "print(f\"  95% CI for σ (bootstrap): {ci_sigma_t}\")"
      ],
      "metadata": {
        "colab": {
          "base_uri": "https://localhost:8080/"
        },
        "id": "pyQkxcDcZFd5",
        "outputId": "cf072f59-8549-40ca-a9b5-39e98d98ae3e"
      },
      "execution_count": null,
      "outputs": [
        {
          "output_type": "stream",
          "name": "stdout",
          "text": [
            "\n",
            "Student’s t fit:\n",
            "  df = 3.6, μ = 0.00105,  σ = 0.01446\n",
            "  95% CI for μ (bootstrap): [0.00060409 0.00150842]\n",
            "  95% CI for σ (bootstrap): [0.0139776  0.01498278]\n"
          ]
        }
      ]
    },
    {
      "cell_type": "markdown",
      "source": [
        "#### VAR With Normal dist"
      ],
      "metadata": {
        "id": "2KPT3I0BBjva"
      }
    },
    {
      "cell_type": "code",
      "source": [
        "portR= logR.dot(weights)"
      ],
      "metadata": {
        "id": "FWR0fry2aMnp"
      },
      "execution_count": null,
      "outputs": []
    },
    {
      "cell_type": "code",
      "source": [
        "portR"
      ],
      "metadata": {
        "colab": {
          "base_uri": "https://localhost:8080/",
          "height": 458
        },
        "id": "p_QR1s-A6SVJ",
        "outputId": "e8fbccb7-85fe-4953-acd6-e0b0c37a8fca"
      },
      "execution_count": null,
      "outputs": [
        {
          "output_type": "execute_result",
          "data": {
            "text/plain": [
              "2020-01-03   -0.009888\n",
              "2020-01-06    0.012885\n",
              "2020-01-07   -0.003453\n",
              "2020-01-08    0.007801\n",
              "2020-01-09    0.012131\n",
              "                ...   \n",
              "2025-05-14    0.009061\n",
              "2025-05-15   -0.009189\n",
              "2025-05-16    0.004292\n",
              "2025-05-19    0.000785\n",
              "2025-05-20   -0.009112\n",
              "Length: 1352, dtype: float64"
            ],
            "text/html": [
              "<div>\n",
              "<style scoped>\n",
              "    .dataframe tbody tr th:only-of-type {\n",
              "        vertical-align: middle;\n",
              "    }\n",
              "\n",
              "    .dataframe tbody tr th {\n",
              "        vertical-align: top;\n",
              "    }\n",
              "\n",
              "    .dataframe thead th {\n",
              "        text-align: right;\n",
              "    }\n",
              "</style>\n",
              "<table border=\"1\" class=\"dataframe\">\n",
              "  <thead>\n",
              "    <tr style=\"text-align: right;\">\n",
              "      <th></th>\n",
              "      <th>0</th>\n",
              "    </tr>\n",
              "  </thead>\n",
              "  <tbody>\n",
              "    <tr>\n",
              "      <th>2020-01-03</th>\n",
              "      <td>-0.009888</td>\n",
              "    </tr>\n",
              "    <tr>\n",
              "      <th>2020-01-06</th>\n",
              "      <td>0.012885</td>\n",
              "    </tr>\n",
              "    <tr>\n",
              "      <th>2020-01-07</th>\n",
              "      <td>-0.003453</td>\n",
              "    </tr>\n",
              "    <tr>\n",
              "      <th>2020-01-08</th>\n",
              "      <td>0.007801</td>\n",
              "    </tr>\n",
              "    <tr>\n",
              "      <th>2020-01-09</th>\n",
              "      <td>0.012131</td>\n",
              "    </tr>\n",
              "    <tr>\n",
              "      <th>...</th>\n",
              "      <td>...</td>\n",
              "    </tr>\n",
              "    <tr>\n",
              "      <th>2025-05-14</th>\n",
              "      <td>0.009061</td>\n",
              "    </tr>\n",
              "    <tr>\n",
              "      <th>2025-05-15</th>\n",
              "      <td>-0.009189</td>\n",
              "    </tr>\n",
              "    <tr>\n",
              "      <th>2025-05-16</th>\n",
              "      <td>0.004292</td>\n",
              "    </tr>\n",
              "    <tr>\n",
              "      <th>2025-05-19</th>\n",
              "      <td>0.000785</td>\n",
              "    </tr>\n",
              "    <tr>\n",
              "      <th>2025-05-20</th>\n",
              "      <td>-0.009112</td>\n",
              "    </tr>\n",
              "  </tbody>\n",
              "</table>\n",
              "<p>1352 rows × 1 columns</p>\n",
              "</div><br><label><b>dtype:</b> float64</label>"
            ]
          },
          "metadata": {},
          "execution_count": 17
        }
      ]
    },
    {
      "cell_type": "code",
      "source": [
        "μ_p = portR.mean()\n",
        "σ_p = portR.std(ddof=1)"
      ],
      "metadata": {
        "id": "UBvV_eMz7-Ec"
      },
      "execution_count": null,
      "outputs": []
    },
    {
      "cell_type": "code",
      "source": [
        "### Zscore (0.05)\n",
        "z05= stats.norm.ppf(0.05)"
      ],
      "metadata": {
        "id": "obzGgz9HBFAS"
      },
      "execution_count": null,
      "outputs": []
    },
    {
      "cell_type": "code",
      "source": [
        "# VAR with 95%\n",
        "VAR_norm= -(μ_p + σ_p *z05)"
      ],
      "metadata": {
        "id": "lG_8u35zBdz9"
      },
      "execution_count": null,
      "outputs": []
    },
    {
      "cell_type": "code",
      "source": [
        "print(VAR_norm)"
      ],
      "metadata": {
        "colab": {
          "base_uri": "https://localhost:8080/"
        },
        "id": "dLRa594yB5aF",
        "outputId": "56b52981-6ab9-442d-f4ce-30f092c6aa95"
      },
      "execution_count": null,
      "outputs": [
        {
          "output_type": "stream",
          "name": "stdout",
          "text": [
            "0.029196105452497914\n"
          ]
        }
      ]
    },
    {
      "cell_type": "markdown",
      "source": [
        "## Using Student-t distribution"
      ],
      "metadata": {
        "id": "87I-z0PiEFyP"
      }
    },
    {
      "cell_type": "code",
      "source": [
        "t05 = stats.t.ppf(0.05,df_t)"
      ],
      "metadata": {
        "id": "f4_tKeTvCFX9"
      },
      "execution_count": null,
      "outputs": []
    },
    {
      "cell_type": "code",
      "source": [
        "VaR_t = -(mu_t + sigma_t *t05) *1"
      ],
      "metadata": {
        "id": "XU8nSVIbEWmr"
      },
      "execution_count": null,
      "outputs": []
    },
    {
      "cell_type": "code",
      "source": [
        "VaR_t\n",
        "\n"
      ],
      "metadata": {
        "colab": {
          "base_uri": "https://localhost:8080/"
        },
        "id": "dmM889LFEir7",
        "outputId": "8dae85f1-191c-451c-df4b-be38ee3c257d"
      },
      "execution_count": null,
      "outputs": [
        {
          "output_type": "execute_result",
          "data": {
            "text/plain": [
              "np.float64(0.030659101200691805)"
            ]
          },
          "metadata": {},
          "execution_count": 24
        }
      ]
    },
    {
      "cell_type": "markdown",
      "source": [
        "## HISTORICAL METHOD"
      ],
      "metadata": {
        "id": "wwFmJ3DBFLGq"
      }
    },
    {
      "cell_type": "code",
      "source": [
        "### Historical VAR\n",
        "hist_var = -np.percentile(portR,5)"
      ],
      "metadata": {
        "id": "9ugz1PzzEnmi"
      },
      "execution_count": null,
      "outputs": []
    },
    {
      "cell_type": "code",
      "source": [
        "\n",
        "print(\"1-Day 95% VaR:\")\n",
        "print(f\"  Parametric (Normal):       {VAR_norm:.5f}\")\n",
        "print(f\"  Parametric (Student’s t):  {VaR_t:.5f}\")\n",
        "print(f\"  Historical (5th percentile): {hist_var:.5f}\")"
      ],
      "metadata": {
        "colab": {
          "base_uri": "https://localhost:8080/"
        },
        "id": "vk482cSiHHkF",
        "outputId": "7d26d095-f23b-488e-d8e8-9deec8ffe1cf"
      },
      "execution_count": null,
      "outputs": [
        {
          "output_type": "stream",
          "name": "stdout",
          "text": [
            "1-Day 95% VaR:\n",
            "  Parametric (Normal):       0.02920\n",
            "  Parametric (Student’s t):  0.03066\n",
            "  Historical (5th percentile): 0.02893\n"
          ]
        }
      ]
    },
    {
      "cell_type": "markdown",
      "source": [
        "###   we found that on most days portpolio won't lost more then 2.9 to 3.1 %"
      ],
      "metadata": {
        "id": "jG80WddkHx-8"
      }
    },
    {
      "cell_type": "markdown",
      "source": [
        "#### Hypothesis Test"
      ],
      "metadata": {
        "id": "eS0Fn1NtISsm"
      }
    },
    {
      "cell_type": "code",
      "source": [
        "t_stat, p_val = stats.ttest_1samp(portR, 0.0)"
      ],
      "metadata": {
        "id": "x_XWM6cdIWL6"
      },
      "execution_count": null,
      "outputs": []
    },
    {
      "cell_type": "code",
      "source": [
        "print(\"One-sample t-test on portfolio daily returns:\")\n",
        "print(f\"  t-statistic = {t_stat:.3f},  p-value = {p_val:.3f}\")"
      ],
      "metadata": {
        "colab": {
          "base_uri": "https://localhost:8080/"
        },
        "id": "_8y4mncELrBC",
        "outputId": "2effdf2e-5f83-429c-d7ea-20dbdd488b02"
      },
      "execution_count": null,
      "outputs": [
        {
          "output_type": "stream",
          "name": "stdout",
          "text": [
            "One-sample t-test on portfolio daily returns:\n",
            "  t-statistic = 1.415,  p-value = 0.157\n"
          ]
        }
      ]
    },
    {
      "cell_type": "code",
      "source": [
        "if p_val < 0.05:\n",
        "    print(\"  → Reject H0: mean return is significantly different from zero.\")\n",
        "else:\n",
        "    print(\"  → Fail to reject H0: no evidence mean return ≠ 0.\")"
      ],
      "metadata": {
        "colab": {
          "base_uri": "https://localhost:8080/"
        },
        "id": "HPR0MqoDLw54",
        "outputId": "a8f85c18-fcd1-4eae-e50a-c235e264c388"
      },
      "execution_count": null,
      "outputs": [
        {
          "output_type": "stream",
          "name": "stdout",
          "text": [
            "  → Fail to reject H0: no evidence mean return ≠ 0.\n"
          ]
        }
      ]
    },
    {
      "cell_type": "markdown",
      "source": [
        "Corelation matrix"
      ],
      "metadata": {
        "id": "M5lvTOz0PtoH"
      }
    },
    {
      "cell_type": "code",
      "source": [
        "# 7. Correlation & Diversification Benefit\n",
        "import seaborn as sns\n",
        "\n",
        "# a) Correlation heatmap\n",
        "corr = logR.corr()\n",
        "plt.figure(figsize=(6,5))\n",
        "sns.heatmap(corr, annot=True, cmap='coolwarm', vmin=-1, vmax=1)\n",
        "plt.title('Asset Return Correlations')\n",
        "plt.show()\n",
        "\n",
        "\n",
        "# b) Diversification benefit\n",
        "σ_i = logR.std()                         # individual volatilities\n",
        "σ_weighted = np.dot(weights, σ_i)        # naive weighted avg\n",
        "σ_portfolio = σ_p                        # from earlier\n",
        "print(f\"Weighted avg σ: {σ_weighted:.4f}\")\n",
        "print(f\"Actual portfolio σ: {σ_portfolio:.4f}\")\n",
        "print(f\"Diversification benefit: {σ_weighted-σ_portfolio:.4f}\")"
      ],
      "metadata": {
        "colab": {
          "base_uri": "https://localhost:8080/",
          "height": 520
        },
        "id": "T2qfR99KL3vl",
        "outputId": "59a7fca3-9f56-4c2c-f813-3a018a9392c1"
      },
      "execution_count": null,
      "outputs": [
        {
          "output_type": "display_data",
          "data": {
            "text/plain": [
              "<Figure size 600x500 with 2 Axes>"
            ],
            "image/png": "[encoded data removed]"
          },
          "metadata": {}
        },
        {
          "output_type": "stream",
          "name": "stdout",
          "text": [
            "Weighted avg σ: 0.0209\n",
            "Actual portfolio σ: 0.0182\n",
            "Diversification benefit: 0.0027\n"
          ]
        }
      ]
    },
    {
      "cell_type": "markdown",
      "source": [
        "#### MDD/ DD"
      ],
      "metadata": {
        "id": "57uwYFHRb2A9"
      }
    },
    {
      "cell_type": "code",
      "source": [],
      "metadata": {
        "id": "097o7jLkW-Pd"
      },
      "execution_count": null,
      "outputs": []
    },
    {
      "cell_type": "code",
      "source": [
        "# 8. Max Drawdown\n",
        "cum_ret = (price / price.iloc[0]).prod(axis=1)  # cumulative portfolio growth?\n",
        "# Actually for portfolio: cum_port = (portR + 1).cumprod()\n",
        "cum_port = (portR + 1).cumprod()"
      ],
      "metadata": {
        "id": "2vDTl6Ofcxmz"
      },
      "execution_count": null,
      "outputs": []
    },
    {
      "cell_type": "code",
      "source": [
        "cum_port"
      ],
      "metadata": {
        "colab": {
          "base_uri": "https://localhost:8080/",
          "height": 458
        },
        "id": "sDN4SbT_dKEt",
        "outputId": "db89e616-a90f-40e0-894f-4020e972450b"
      },
      "execution_count": null,
      "outputs": [
        {
          "output_type": "execute_result",
          "data": {
            "text/plain": [
              "2020-01-03    0.990112\n",
              "2020-01-06    1.002869\n",
              "2020-01-07    0.999406\n",
              "2020-01-08    1.007203\n",
              "2020-01-09    1.019421\n",
              "                ...   \n",
              "2025-05-14    2.084911\n",
              "2025-05-15    2.065753\n",
              "2025-05-16    2.074619\n",
              "2025-05-19    2.076247\n",
              "2025-05-20    2.057330\n",
              "Length: 1352, dtype: float64"
            ],
            "text/html": [
              "<div>\n",
              "<style scoped>\n",
              "    .dataframe tbody tr th:only-of-type {\n",
              "        vertical-align: middle;\n",
              "    }\n",
              "\n",
              "    .dataframe tbody tr th {\n",
              "        vertical-align: top;\n",
              "    }\n",
              "\n",
              "    .dataframe thead th {\n",
              "        text-align: right;\n",
              "    }\n",
              "</style>\n",
              "<table border=\"1\" class=\"dataframe\">\n",
              "  <thead>\n",
              "    <tr style=\"text-align: right;\">\n",
              "      <th></th>\n",
              "      <th>0</th>\n",
              "    </tr>\n",
              "  </thead>\n",
              "  <tbody>\n",
              "    <tr>\n",
              "      <th>2020-01-03</th>\n",
              "      <td>0.990112</td>\n",
              "    </tr>\n",
              "    <tr>\n",
              "      <th>2020-01-06</th>\n",
              "      <td>1.002869</td>\n",
              "    </tr>\n",
              "    <tr>\n",
              "      <th>2020-01-07</th>\n",
              "      <td>0.999406</td>\n",
              "    </tr>\n",
              "    <tr>\n",
              "      <th>2020-01-08</th>\n",
              "      <td>1.007203</td>\n",
              "    </tr>\n",
              "    <tr>\n",
              "      <th>2020-01-09</th>\n",
              "      <td>1.019421</td>\n",
              "    </tr>\n",
              "    <tr>\n",
              "      <th>...</th>\n",
              "      <td>...</td>\n",
              "    </tr>\n",
              "    <tr>\n",
              "      <th>2025-05-14</th>\n",
              "      <td>2.084911</td>\n",
              "    </tr>\n",
              "    <tr>\n",
              "      <th>2025-05-15</th>\n",
              "      <td>2.065753</td>\n",
              "    </tr>\n",
              "    <tr>\n",
              "      <th>2025-05-16</th>\n",
              "      <td>2.074619</td>\n",
              "    </tr>\n",
              "    <tr>\n",
              "      <th>2025-05-19</th>\n",
              "      <td>2.076247</td>\n",
              "    </tr>\n",
              "    <tr>\n",
              "      <th>2025-05-20</th>\n",
              "      <td>2.057330</td>\n",
              "    </tr>\n",
              "  </tbody>\n",
              "</table>\n",
              "<p>1352 rows × 1 columns</p>\n",
              "</div><br><label><b>dtype:</b> float64</label>"
            ]
          },
          "metadata": {},
          "execution_count": 32
        }
      ]
    },
    {
      "cell_type": "code",
      "source": [
        "# 2. Track the highest value reached so far\n",
        "rolling_max = cum_port.cummax()"
      ],
      "metadata": {
        "id": "PI5hpkD1dkdI"
      },
      "execution_count": null,
      "outputs": []
    },
    {
      "cell_type": "code",
      "source": [
        "rolling_max\n",
        "drawdown   = (cum_port - rolling_max) / rolling_max"
      ],
      "metadata": {
        "id": "QIss7y5ydvCE"
      },
      "execution_count": null,
      "outputs": []
    },
    {
      "cell_type": "code",
      "source": [
        "max_dd = drawdown.min()\n",
        "end_date = drawdown.idxmin()\n",
        "start_date = cum_port[:end_date].idxmax()"
      ],
      "metadata": {
        "id": "EmAa6fZrdzAA"
      },
      "execution_count": null,
      "outputs": []
    },
    {
      "cell_type": "code",
      "source": [
        "print(f\"Max Drawdown: {max_dd:.2%}\")\n",
        "print(f\"From {start_date.date()} to {end_date.date()}\")"
      ],
      "metadata": {
        "colab": {
          "base_uri": "https://localhost:8080/"
        },
        "id": "kjGc6vMhd63v",
        "outputId": "15576836-46bb-4daf-fd26-bb19131e48b1"
      },
      "execution_count": null,
      "outputs": [
        {
          "output_type": "stream",
          "name": "stdout",
          "text": [
            "Max Drawdown: -43.98%\n",
            "From 2021-12-10 to 2023-01-05\n"
          ]
        }
      ]
    },
    {
      "cell_type": "code",
      "source": [
        "# Plot\n",
        "plt.figure(figsize=(10,4))\n",
        "plt.plot(cum_port, label='Cumulative')\n",
        "plt.fill_between(drawdown.index, cum_port, rolling_max,\n",
        "                 where=drawdown<0, color='red', alpha=0.3)\n",
        "plt.title('Portfolio Cumulative Return & Drawdown')\n",
        "plt.legend()\n",
        "plt.show()"
      ],
      "metadata": {
        "colab": {
          "base_uri": "https://localhost:8080/",
          "height": 391
        },
        "id": "QG27UyLmeHt3",
        "outputId": "467717f4-eacf-4b1a-87d8-1496aa86f159"
      },
      "execution_count": null,
      "outputs": [
        {
          "output_type": "display_data",
          "data": {
            "text/plain": [
              "<Figure size 1000x400 with 1 Axes>"
            ],
            "image/png": "[encoded data removed]"
          },
          "metadata": {}
        }
      ]
    },
    {
      "cell_type": "markdown",
      "source": [
        "### Expected shortfall / CVAR"
      ],
      "metadata": {
        "id": "t5sPwj3BLWSX"
      }
    },
    {
      "cell_type": "code",
      "source": [
        "alpha = 0.5 ##  ES at beyond 95%\n",
        "# historical\n",
        "ES_historical = portR[portR <= np.percentile(portR, 5)].mean()\n",
        "\n",
        "# normal method\n",
        "ES_norm = (μ_p - σ_p * stats.norm.pdf(z05) / alpha)\n",
        "\n",
        "print(f\"Historical ES (95%): {ES_historical:.5f}\")\n",
        "print(f\"Parametric Normal ES (95%): {ES_norm:.5f}\")"
      ],
      "metadata": {
        "colab": {
          "base_uri": "https://localhost:8080/"
        },
        "id": "0EFm9JZJeRu4",
        "outputId": "6e59df5e-463b-4f06-efa1-672932870899"
      },
      "execution_count": null,
      "outputs": [
        {
          "output_type": "stream",
          "name": "stdout",
          "text": [
            "Historical ES (95%): -0.04230\n",
            "Parametric Normal ES (95%): -0.00305\n"
          ]
        }
      ]
    },
    {
      "cell_type": "markdown",
      "source": [
        "### \"VAR Backtesting\""
      ],
      "metadata": {
        "id": "8vlkQGo0PiF6"
      }
    },
    {
      "cell_type": "code",
      "source": [
        "var_series= (portR.rolling(1).mean()  + portR.rolling(1).std()*z05)\n",
        "### i am taking normal dist VAR\n",
        "exc= portR <- VAR_norm\n",
        "num_exc= exc.sum()\n",
        "\n",
        "total =  len(portR)\n",
        "\n",
        "\n",
        "print(f\"Exceptions: {num_exc}/{total} days ({num_exc/total:.2%}, expected ~5%)\")"
      ],
      "metadata": {
        "colab": {
          "base_uri": "https://localhost:8080/"
        },
        "id": "_8wjN4G6LnyR",
        "outputId": "672a5f3c-a7db-4c00-83da-fec3d272c1a7"
      },
      "execution_count": null,
      "outputs": [
        {
          "output_type": "stream",
          "name": "stdout",
          "text": [
            "Exceptions: 67/1352 days (4.96%, expected ~5%)\n"
          ]
        }
      ]
    },
    {
      "cell_type": "code",
      "source": [
        "\n",
        "# 11. Rolling 60-day VaR\n",
        "window = 60\n",
        "roll_var = portR.rolling(window).quantile(0.05).dropna()\n",
        "plt.figure(figsize=(10,4))\n",
        "plt.plot(-roll_var, label='Rolling 95% VaR (hist)')\n",
        "plt.axhline(VAR_norm, color='red', linestyle='--', label='Static VaR')\n",
        "plt.title('Rolling 60-Day Historical VaR (95%)')\n",
        "plt.ylabel('VaR')\n",
        "plt.legend()\n",
        "plt.show()"
      ],
      "metadata": {
        "colab": {
          "base_uri": "https://localhost:8080/",
          "height": 391
        },
        "id": "Gi7ycaZrQ_ay",
        "outputId": "b630ec5c-b934-47a6-ca88-843157326dc3"
      },
      "execution_count": null,
      "outputs": [
        {
          "output_type": "display_data",
          "data": {
            "text/plain": [
              "<Figure size 1000x400 with 1 Axes>"
            ],
            "image/png": "[encoded data removed]"
          },
          "metadata": {}
        }
      ]
    },
    {
      "cell_type": "code",
      "source": [
        "### Jarque bara test\n",
        "\n",
        "\n",
        "\n",
        "jb_stat, jb_p = stats.jarque_bera(portR)\n",
        "print(f\"JB statistic = {jb_stat:.2f}, p-value = {jb_p:.3f}\")\n",
        "if jb_p < 0.05:\n",
        "    print(\"Reject normality at 5% level.\")\n",
        "else:\n",
        "    print(\"Cannot reject normality.\")"
      ],
      "metadata": {
        "colab": {
          "base_uri": "https://localhost:8080/"
        },
        "id": "cB8nG1J6Ut2I",
        "outputId": "b0f160c1-c562-4c3e-beb3-d0afc3a5fe18"
      },
      "execution_count": null,
      "outputs": [
        {
          "output_type": "stream",
          "name": "stdout",
          "text": [
            "JB statistic = 1185.36, p-value = 0.000\n",
            "Reject normality at 5% level.\n"
          ]
        }
      ]
    },
    {
      "cell_type": "code",
      "source": [],
      "metadata": {
        "id": "5SFzLTLAXxMw"
      },
      "execution_count": null,
      "outputs": []
    }
  ]
}