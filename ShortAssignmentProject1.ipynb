{
  "nbformat": 4,
  "nbformat_minor": 0,
  "metadata": {
    "colab": {
      "provenance": [],
      "collapsed_sections": [
        "z5tOLIA6I2Lx",
        "G69u1FY-LAgu",
        "yZKUxIG7LZn0"
      ]
    },
    "kernelspec": {
      "name": "python3",
      "display_name": "Python 3"
    },
    "language_info": {
      "name": "python"
    }
  },
  "cells": [
    {
      "cell_type": "markdown",
      "source": [
        "### 1. Expected Shortfall (ES)"
      ],
      "metadata": {
        "id": "z5tOLIA6I2Lx"
      }
    },
    {
      "cell_type": "markdown",
      "source": [
        "VaR at 95% confidence = 10,000\n",
        "\n",
        "Tail loss distribution is normal\n",
        "\n",
        "Formula for Expected Shortfall under normal distribution:\n",
        "\n",
        "ES = VaR × [ PDF(z) / (1 - confidence level) ]\n",
        "\n",
        "Where:\n",
        "- VaR = 10,000\n",
        "- z = 1.645 for 95% confidence\n",
        "- PDF(z) ≈ 0.103 (standard normal)\n",
        "\n",
        "\n",
        "\n"
      ],
      "metadata": {
        "id": "hQ4flkavI44S"
      }
    },
    {
      "cell_type": "code",
      "execution_count": 1,
      "metadata": {
        "colab": {
          "base_uri": "https://localhost:8080/"
        },
        "id": "q31XIdgnIpt8",
        "outputId": "877c2aaf-9493-4e00-f888-c233f8b4cbf6"
      },
      "outputs": [
        {
          "output_type": "stream",
          "name": "stdout",
          "text": [
            "Expected Shortfall (95% confidence): 20627.13\n"
          ]
        }
      ],
      "source": [
        "import scipy.stats as stats\n",
        "\n",
        "# Given\n",
        "VaR_95 = 10000\n",
        "confidence_level = 0.95\n",
        "\n",
        "# z-score and PDF at z\n",
        "z = stats.norm.ppf(confidence_level)\n",
        "pdf = stats.norm.pdf(z)\n",
        "\n",
        "# Expected Shortfall formula for normal distribution\n",
        "ES = VaR_95 * (pdf / (1 - confidence_level))\n",
        "\n",
        "print(f\"Expected Shortfall (95% confidence): {ES:.2f}\")"
      ]
    },
    {
      "cell_type": "markdown",
      "source": [
        "### 2. Sharpe Ratio"
      ],
      "metadata": {
        "id": "G69u1FY-LAgu"
      }
    },
    {
      "cell_type": "markdown",
      "source": [
        "\n",
        "Sharpe Ratio tells us how much **extra return** we get for the **risk** we take.\n",
        "\n",
        "Formula:\n",
        "\n",
        "Sharpe Ratio = (Expected Return - Risk-Free Rate) / Volatility\n",
        "\n",
        "Here:\n",
        "- Expected Return = 12% or 0.12\n",
        "- Risk-Free Rate = 2% or 0.02\n",
        "- Volatility = 18% or 0.18"
      ],
      "metadata": {
        "id": "FO3cJXbmLP7y"
      }
    },
    {
      "cell_type": "code",
      "source": [
        "# Given values\n",
        "expected_return = 0.12   # 12%\n",
        "risk_free_rate = 0.02    # 2%\n",
        "volatility = 0.18        # 18%\n",
        "\n",
        "# Sharpe Ratio formula\n",
        "sharpe_ratio = (expected_return - risk_free_rate) / volatility\n",
        "\n",
        "print(f\"Sharpe Ratio: {sharpe_ratio:.2f}\")"
      ],
      "metadata": {
        "colab": {
          "base_uri": "https://localhost:8080/"
        },
        "id": "bp8ukkdDK2w-",
        "outputId": "e208597c-9d08-4b42-fd52-432c3de44749"
      },
      "execution_count": 2,
      "outputs": [
        {
          "output_type": "stream",
          "name": "stdout",
          "text": [
            "Sharpe Ratio: 0.56\n"
          ]
        }
      ]
    },
    {
      "cell_type": "markdown",
      "source": [
        "### 3. Monte Carlo Simulation for One Future Return"
      ],
      "metadata": {
        "id": "yZKUxIG7LZn0"
      }
    },
    {
      "cell_type": "markdown",
      "source": [
        "We simulate one possible future return using:\n",
        "\n",
        "Return = Mean Return + (Volatility × Random Normal Value)\n",
        "\n",
        "Given:\n",
        "- Mean Return = 7% or 0.07\n",
        "- Volatility = 12% or 0.12\n",
        "- Random normal value Z is generated from N(0, 1)"
      ],
      "metadata": {
        "id": "fHchX5bALjSq"
      }
    },
    {
      "cell_type": "code",
      "source": [
        "import numpy as np\n",
        "\n",
        "# Given values\n",
        "mean_return = 0.07      # 7%\n",
        "volatility = 0.12       # 12%\n",
        "time_horizon = 1        # 1 year\n",
        "\n",
        "# One random simulation\n",
        "Z = np.random.normal()\n",
        "simulated_return = mean_return + volatility * Z\n",
        "\n",
        "print(f\"Simulated portfolio return (1 year): {simulated_return:.2%}\")"
      ],
      "metadata": {
        "colab": {
          "base_uri": "https://localhost:8080/"
        },
        "id": "QhYvFZQ8LYiX",
        "outputId": "e71aa86f-d824-457c-98b5-dfdfdda2612d"
      },
      "execution_count": 3,
      "outputs": [
        {
          "output_type": "stream",
          "name": "stdout",
          "text": [
            "Simulated portfolio return (1 year): -10.89%\n"
          ]
        }
      ]
    },
    {
      "cell_type": "code",
      "source": [],
      "metadata": {
        "id": "cwxxTJjxLilF"
      },
      "execution_count": null,
      "outputs": []
    }
  ]
}