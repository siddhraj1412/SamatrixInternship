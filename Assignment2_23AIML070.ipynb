{
  "nbformat": 4,
  "nbformat_minor": 0,
  "metadata": {
    "colab": {
      "provenance": []
    },
    "kernelspec": {
      "name": "python3",
      "display_name": "Python 3"
    },
    "language_info": {
      "name": "python"
    }
  },
  "cells": [
    {
      "cell_type": "markdown",
      "source": [
        "### 1.simulate data for A/B test"
      ],
      "metadata": {
        "id": "0Y7JlWnmZwL4"
      }
    },
    {
      "cell_type": "code",
      "execution_count": 1,
      "metadata": {
        "id": "03nm4lxiZfUy"
      },
      "outputs": [],
      "source": [
        "# Import necessary libraries\n",
        "import numpy as np\n",
        "import pandas as pd\n",
        "import seaborn as sns\n",
        "import matplotlib.pyplot as plt\n",
        "from scipy import stats\n",
        "from statsmodels.stats.proportion import proportions_ztest"
      ]
    },
    {
      "cell_type": "code",
      "source": [
        "# Set seed for reproducibility\n",
        "np.random.seed(42)"
      ],
      "metadata": {
        "id": "V8OD6lgUZrCp"
      },
      "execution_count": 2,
      "outputs": []
    },
    {
      "cell_type": "code",
      "source": [
        "# Simulate traffic and conversions\n",
        "n_A, p_A = 10000, 0.10  # Variant A: 10% true conversion rate\n",
        "n_B, p_B = 10000, 0.12  # Variant B: 12% true conversion rate"
      ],
      "metadata": {
        "id": "D5r_Q43MaCyE"
      },
      "execution_count": 8,
      "outputs": []
    },
    {
      "cell_type": "code",
      "source": [
        "# Simulate purchases using binomial distribution\n",
        "success_A = np.random.binomial(n_A, p_A)\n",
        "success_B = np.random.binomial(n_B, p_B)"
      ],
      "metadata": {
        "id": "em0g5ovnZ8Yz"
      },
      "execution_count": 5,
      "outputs": []
    },
    {
      "cell_type": "code",
      "source": [
        "# Calculate conversion rate and 95% confidence intervals\n",
        "def proportion_ci(successes, n, alpha=0.05):\n",
        "    p_hat = successes / n\n",
        "    z = stats.norm.ppf(1 - alpha / 2)\n",
        "    se = np.sqrt(p_hat * (1 - p_hat) / n)\n",
        "    return p_hat, p_hat - z * se, p_hat + z * se\n",
        "\n",
        "p_hat_A, ci_lower_A, ci_upper_A = proportion_ci(success_A, n_A)\n",
        "p_hat_B, ci_lower_B, ci_upper_B = proportion_ci(success_B, n_B)"
      ],
      "metadata": {
        "id": "h9vYyqCjZ_Of"
      },
      "execution_count": 7,
      "outputs": []
    },
    {
      "cell_type": "code",
      "source": [
        "# Prepare results in a DataFrame\n",
        "result = pd.DataFrame({\n",
        "    'Variant': ['A', 'B'],\n",
        "    'Visitors': [n_A, n_B],\n",
        "    'Conversions': [success_A, success_B],\n",
        "    'Conversion Rate (%)': [p_hat_A * 100, p_hat_B * 100],\n",
        "    'CI Lower (%)': [ci_lower_A * 100, ci_lower_B * 100],\n",
        "    'CI Upper (%)': [ci_upper_A * 100, ci_upper_B * 100]\n",
        "})\n",
        "print(result)"
      ],
      "metadata": {
        "colab": {
          "base_uri": "https://localhost:8080/"
        },
        "id": "n5ulhy4laI66",
        "outputId": "a9d6bfb2-1c2f-4db9-ee7b-1f1a235e69f3"
      },
      "execution_count": 9,
      "outputs": [
        {
          "output_type": "stream",
          "name": "stdout",
          "text": [
            "  Variant  Visitors  Conversions  Conversion Rate (%)  CI Lower (%)  \\\n",
            "0       A     10000          973                 9.73      9.149134   \n",
            "1       B     10000         1134                11.34     10.718532   \n",
            "\n",
            "   CI Upper (%)  \n",
            "0     10.310866  \n",
            "1     11.961468  \n"
          ]
        }
      ]
    },
    {
      "cell_type": "code",
      "source": [
        "plt.figure(figsize=(6, 4))\n",
        "plt.bar(result['Variant'],\n",
        "        result['Conversion Rate (%)'],\n",
        "        yerr=[\n",
        "            result['Conversion Rate (%)'] - result['CI Lower (%)'],  # lower error bars\n",
        "            result['CI Upper (%)'] - result['Conversion Rate (%)']   # upper error bars\n",
        "        ],\n",
        "        capsize=5,\n",
        "        color=['red', 'green'])\n",
        "plt.ylabel('Conversion Rate (%)')\n",
        "plt.title('Conversion Rates for Variant A and Variant B')\n",
        "plt.show()"
      ],
      "metadata": {
        "colab": {
          "base_uri": "https://localhost:8080/",
          "height": 391
        },
        "id": "B6PRWykZaOrK",
        "outputId": "831c0398-f161-437d-c027-61a6389bd828"
      },
      "execution_count": 20,
      "outputs": [
        {
          "output_type": "display_data",
          "data": {
            "text/plain": [
              "<Figure size 600x400 with 1 Axes>"
            ],
            "image/png": "[encoded data removed]"
          },
          "metadata": {}
        }
      ]
    },
    {
      "cell_type": "markdown",
      "source": [
        "### 2. proportion Z test"
      ],
      "metadata": {
        "id": "DyvgbYrRdWlO"
      }
    },
    {
      "cell_type": "code",
      "source": [
        "z_stat, p_value = proportions_ztest([success_B, success_A], [n_B, n_A], alternative='larger')\n",
        "\n",
        "print(f\"\\nZ-statistic: {z_stat:.4f}\")\n",
        "print(f\"P-value: {p_value:.4f}\")"
      ],
      "metadata": {
        "colab": {
          "base_uri": "https://localhost:8080/"
        },
        "id": "ooy4sKJ8aVuA",
        "outputId": "b60acee4-0deb-4c32-f0aa-63682563ce95"
      },
      "execution_count": 21,
      "outputs": [
        {
          "output_type": "stream",
          "name": "stdout",
          "text": [
            "\n",
            "Z-statistic: 3.7082\n",
            "P-value: 0.0001\n"
          ]
        }
      ]
    },
    {
      "cell_type": "code",
      "source": [
        "if p_value < 0.05:\n",
        "    print(\"Funnel B is statistically significantly better than Funnel A (at 5% significance level).\")\n",
        "else:\n",
        "    print(\"No significant improvement observed in Funnel B over Funnel A.\")"
      ],
      "metadata": {
        "colab": {
          "base_uri": "https://localhost:8080/"
        },
        "id": "-l3lqAGxbUK3",
        "outputId": "d98a7703-d439-44c3-ceec-bb4d4bf4b690"
      },
      "execution_count": 23,
      "outputs": [
        {
          "output_type": "stream",
          "name": "stdout",
          "text": [
            "Funnel B is statistically significantly better than Funnel A (at 5% significance level).\n"
          ]
        }
      ]
    },
    {
      "cell_type": "markdown",
      "source": [
        "Conclusion\n",
        "Funnel B shows a statistically significant improvement in conversion rate over Funnel A. The business can consider rolling out Funnel B more broadly, but should continue real-time monitoring to ensure consistent performance.\n"
      ],
      "metadata": {
        "id": "hwcy6otdcKe-"
      }
    },
    {
      "cell_type": "code",
      "source": [],
      "metadata": {
        "id": "4H2TTfiHbW9Q"
      },
      "execution_count": null,
      "outputs": []
    }
  ]
}