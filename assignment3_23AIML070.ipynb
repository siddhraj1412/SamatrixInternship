{
  "nbformat": 4,
  "nbformat_minor": 0,
  "metadata": {
    "colab": {
      "provenance": []
    },
    "kernelspec": {
      "name": "python3",
      "display_name": "Python 3"
    },
    "language_info": {
      "name": "python"
    }
  },
  "cells": [
    {
      "cell_type": "markdown",
      "source": [
        "## Theoretical Description\n",
        "\n",
        "\n",
        "The goal of this project is to simulate and optimize call center operations using queuing theory. Specifically, it models incoming calls and agent responses, calculates key performance metrics (like wait times and system size), and evaluates how the number of available agents affects overall efficiency.\n",
        "\n",
        "Problem Context:\n",
        "\n",
        "\n",
        "Calls arrive randomly (modeled as a Poisson process).\n",
        "\n",
        "Each call takes a variable amount of time (exponentially distributed).\n",
        "\n",
        "The system uses queuing simulations to mimic real-life agent availability and response.\n",
        "\n"
      ],
      "metadata": {
        "id": "Um-DBufihy3k"
      }
    },
    {
      "cell_type": "code",
      "execution_count": 7,
      "metadata": {
        "id": "QjApX0ZMasaV",
        "colab": {
          "base_uri": "https://localhost:8080/"
        },
        "outputId": "b4d026c4-cc6b-4eb3-f515-7edb539a6588"
      },
      "outputs": [
        {
          "output_type": "stream",
          "name": "stdout",
          "text": [
            "Average wait time: 0.08422684260138112\n",
            "Average system size: 6.815950920245399\n"
          ]
        }
      ],
      "source": [
        "import numpy as np\n",
        "import pandas as pd\n",
        "import matplotlib.pyplot as plt\n",
        "\n",
        "#arrival and service rate\n",
        "lamb = 20 #calls per hour\n",
        "mu =5 #calls served per agent per hour\n",
        "shift_hours =8 #8 hour shift\n",
        "\n",
        "np.random.seed(1)\n",
        "\n",
        "# Simulate exponential data using np.random.expo function\n",
        "inter = np.random.exponential(1 / lamb, int(lamb * shift_hours * 1.5))  # use exponential formula for interval arrival\n",
        "arrivals = np.cumsum(inter)  # turns those time gaps into actual arrival times\n",
        "arrivals = arrivals[arrivals < shift_hours]  # only taken under 8 hours\n",
        "N = len(arrivals)  # total number of call during 8 hour shift\n",
        "\n",
        "# Create random service time\n",
        "service = np.random.exponential(1 / mu, N)  # how long it takes to handle each customer\n",
        "\n",
        "def simulate_queue(s):\n",
        "    # set-up tracking variable\n",
        "    next_free = np.zeros(s)  # when each agent is next available\n",
        "    wait_times = np.zeros(N)  # how long each customer waits\n",
        "    system_size = np.zeros(N)  # how many are in the system when each customer arrives\n",
        "    dep_time = []  # tracks when people finish their service\n",
        "\n",
        "    # Simulate our call processing\n",
        "    for i, t in enumerate(arrivals):\n",
        "        j = np.argmin(next_free)  # find the agent who is available first\n",
        "        start = max(t, next_free[j])  # start the call when the agent free\n",
        "        wait_times[i] = start - t  # calculte how long the customer waited\n",
        "        end = start + service[i]  # when the service end\n",
        "        next_free[j] = end  # update the agent availability time\n",
        "        dep_time.append(end)  # record customer finish time\n",
        "        system_size[i] = np.sum(np.array(dep_time) > t)\n",
        "\n",
        "    return wait_times, system_size\n",
        "\n",
        "\n",
        "wait_times_5_agents, system_size_5_agents = simulate_queue(5)\n",
        "print(\"Average wait time:\", np.mean(wait_times_5_agents))\n",
        "print(\"Average system size:\", np.mean(system_size_5_agents))"
      ]
    },
    {
      "cell_type": "markdown",
      "source": [
        "# Compare to M/M/1 Analytic Formula\n",
        "\n",
        "The M/M/1 queue model helps estimate the performance of a call center with one agent. Here, calls arrive randomly, service times are random, and there’s only one agent. The model calculates how busy the agent is (utilization = λ / μ), the average number of customers (L = ρ / (1 - ρ)), and the average wait time (W = L / λ)."
      ],
      "metadata": {
        "id": "Z4rK1KGXIQdi"
      }
    },
    {
      "cell_type": "code",
      "source": [
        "p1=lamb/mu\n",
        "# Define rho as the utilization factor\n",
        "rho = lamb / mu\n",
        "l_analytic=rho/(1-rho)\n",
        "w_analytic=l_analytic/lamb\n",
        "print(\"Average wait time:\", w_analytic)\n",
        "print(\"Average system size:\", l_analytic)"
      ],
      "metadata": {
        "colab": {
          "base_uri": "https://localhost:8080/"
        },
        "id": "bdhYc_4kIZov",
        "outputId": "feadbcfa-1860-4c02-930c-f881676494b0"
      },
      "execution_count": 5,
      "outputs": [
        {
          "output_type": "stream",
          "name": "stdout",
          "text": [
            "Average wait time: -0.06666666666666667\n",
            "Average system size: -1.3333333333333333\n"
          ]
        }
      ]
    },
    {
      "cell_type": "markdown",
      "source": [
        "# Test staffing levels\n",
        "This tests different numbers of agents to find the minimum needed to keep 95% of customer wait times under 5 minutes. It runs `simulate_queue()` for 1 to 5 agents, calculating average wait time, 95th percentile wait time, and average system size. Results are stored in a table, and the code checks which setup meets the target. If none do, it reports that even 7 agents aren't enough."
      ],
      "metadata": {
        "id": "KDS7VV_EI5_A"
      }
    },
    {
      "cell_type": "code",
      "source": [
        "threshold=5\n",
        "results=[]\n",
        "for s in range(1,6):\n",
        "  w,q=simulate_queue(s)\n",
        "  waits_min=w*60\n",
        "  p95_wait=np.percentile(waits_min,95)\n",
        "  results.append((s,waits_min.mean(),p95_wait,q.mean()))\n",
        "df=pd.DataFrame(results,columns=['Agents','Avg wait(min)','95th pct wait(min)','Avg system size'])\n",
        "print(df)\n",
        "good=df[df['95th pct wait(min)']<=threshold]\n",
        "if not good.empty:\n",
        "  best_s=int(good.iloc[0]['Agents'])\n",
        "  print(f\"Schedule at least {best_s} agents to keep 95% of waits<={threshold}min.\")\n",
        "else:\n",
        "  print(\"Even 5 agents can't meet the 5 min \")"
      ],
      "metadata": {
        "colab": {
          "base_uri": "https://localhost:8080/"
        },
        "id": "nnZDLXMAIaog",
        "outputId": "08e6a1aa-7df0-464f-8104-b0879b6bd4b9"
      },
      "execution_count": 8,
      "outputs": [
        {
          "output_type": "stream",
          "name": "stdout",
          "text": [
            "   Agents  Avg wait(min)  95th pct wait(min)  Avg system size\n",
            "0       1     808.232100         1488.275544        65.993865\n",
            "1       2     284.004529          520.338714        49.042945\n",
            "2       3     109.126322          191.268183        29.423313\n",
            "3       4      23.259675           39.865347        11.846626\n",
            "4       5       5.053611           15.062201         6.815951\n",
            "Even 5 agents can't meet the 5 min \n"
          ]
        }
      ]
    },
    {
      "cell_type": "markdown",
      "source": [
        "## Visualize Wait-Time Distributuions\n",
        "Wait-Time Distributions visualize how customer wait times vary with different numbers of agents (1 to 5). For each level, it runs `simulate_queue()`, collects wait times (in minutes), and plots them as colored histograms. A dashed line at 5 minutes marks the target wait time. The x-axis shows wait times, and the y-axis shows how many customers experienced them. This helps compare how more agents reduce wait times.\n"
      ],
      "metadata": {
        "id": "WuDE9VcKLlw1"
      }
    },
    {
      "cell_type": "code",
      "source": [],
      "metadata": {
        "id": "kajRQPSZJDO0"
      },
      "execution_count": null,
      "outputs": []
    },
    {
      "cell_type": "code",
      "source": [
        "plt.figure(figsize=(8, 4))\n",
        "for s in[1,2,3,4,5]:\n",
        "  w,_=simulate_queue(s)\n",
        "  plt.hist(w*60,bins=60,alpha=0.5,label=f'{s} agents')\n",
        "plt.axvline(threshold,color='k',linestyle='--',label='5 min target')\n",
        "plt.xlabel('Wait Time (min)')\n",
        "plt.ylabel('Frequency')\n",
        "plt.legend()\n",
        "plt.show()"
      ],
      "metadata": {
        "id": "KuCweoCu7e1U",
        "colab": {
          "base_uri": "https://localhost:8080/",
          "height": 388
        },
        "outputId": "1040abe8-0066-4972-da13-a5a03612d5c2"
      },
      "execution_count": 9,
      "outputs": [
        {
          "output_type": "display_data",
          "data": {
            "text/plain": [
              "<Figure size 800x400 with 1 Axes>"
            ],
            "image/png": "[encoded data removed]"
          },
          "metadata": {}
        }
      ]
    },
    {
      "cell_type": "markdown",
      "source": [
        "## Time-Varying Arrival rates\n",
        "Time-varying arrival rates mean the number of calls changes during the 8-hour shift, reflecting real-life busy and slow periods. It defines three periods: morning rush (30 calls/hour), midday lull (20 calls/hour), and afternoon spike (40 calls/hour). For each, it generates random call times, combines and sorts them. Using 5 agents, it simulates call handling and calculates the average customer wait time in minutes."
      ],
      "metadata": {
        "id": "JH8FrarHLzYt"
      }
    },
    {
      "cell_type": "code",
      "source": [
        "#Time-Varying Arrival Rates(Peak vs off-Peak)\n",
        "#Model lambda changing over the 8 hour shift for example,a morning \"rush\" ,a midday lull,and an afternoon spike.\n",
        "# Real call ceneters see non-stationary traffic\n",
        "\n",
        "def simulate_queue_timevarying(s):\n",
        "  periods=[(0,2,30),(2,6,20),(6,8,40)]\n",
        "  arrival=[]\n",
        "  for start,end,lam in periods:\n",
        "    duration=end-start\n",
        "    inter=np.random.exponential(1/lam,int(lam*duration*1.5))\n",
        "    ts=np.cumsum(inter)+start\n",
        "    arrival.extend(ts[ts<end])\n",
        "\n",
        "  arrivals = np.array(arrival)\n",
        "\n",
        "  arrivals.sort()\n",
        "  N=len(arrivals)\n",
        "  service=np.random.exponential(1/mu,N)\n",
        "  next_free=np.zeros(s)\n",
        "  wait_times=np.zeros(N)\n",
        "  for i,t in enumerate(arrivals):\n",
        "    j=np.argmin(next_free)\n",
        "    start=max(t,next_free[j])\n",
        "    wait_times[i]=start-t\n",
        "    next_free[j]=start+service[i]\n",
        "  return wait_times\n",
        "w_tv=simulate_queue_timevarying(5)\n",
        "print(\"Average wait time(min):\",w_tv.mean()*60)"
      ],
      "metadata": {
        "colab": {
          "base_uri": "https://localhost:8080/"
        },
        "id": "ytVNlrRi--Yc",
        "outputId": "ed082451-f3c5-4029-aaaa-e4dadad34402"
      },
      "execution_count": 10,
      "outputs": [
        {
          "output_type": "stream",
          "name": "stdout",
          "text": [
            "Average wait time(min): 28.94050166996809\n"
          ]
        }
      ]
    },
    {
      "cell_type": "markdown",
      "source": [
        "## Customer abondonment (Patience threshold)\n",
        "This scenario simulates customers who may hang up if their wait exceeds a 5-minute patience limit. It generates random arrival and service times, then uses 5 agents to process calls. If a customer waits too long, they're marked as having abandoned the call; otherwise, they're served and their wait time is recorded. The simulation returns the average wait time for those served and the abandonment rate."
      ],
      "metadata": {
        "id": "qbCsrXCAMF6l"
      }
    },
    {
      "cell_type": "code",
      "source": [
        "def simulate_with_abandon(s,patience=5/60):\n",
        "  arrivals=np.cumsum(np.random.exponential(1/lamb,int(lamb*shift_hours*1.5)))\n",
        "  arrivals=arrivals[arrivals<shift_hours]\n",
        "  service=np.random.exponential(1/mu,len(arrivals))\n",
        "  next_free=np.zeros(s)\n",
        "  abandons=0\n",
        "  waits=[]\n",
        "  for i,t in enumerate(arrivals):\n",
        "    j=np.argmin(next_free)\n",
        "    start=max(t,next_free[j])\n",
        "    wait=start-t\n",
        "    if wait>=patience:\n",
        "      abandons=abandons+1\n",
        "    else:\n",
        "      waits.append(wait)\n",
        "      next_free[j]=start+service[i]\n",
        "  return np.array(waits),abandons/len(arrivals)\n",
        "waits,abandonment=simulate_with_abandon(5)\n",
        "print(\"Average wait time(min):\",waits.mean()*60)\n",
        "print(\"Abandonment rate:\",abandonment)"
      ],
      "metadata": {
        "colab": {
          "base_uri": "https://localhost:8080/"
        },
        "id": "7KgPLs51EMEg",
        "outputId": "41a6f540-f30e-414d-fa36-3c4d0eddc362"
      },
      "execution_count": 11,
      "outputs": [
        {
          "output_type": "stream",
          "name": "stdout",
          "text": [
            "Average wait time(min): 0.6160260819372596\n",
            "Abandonment rate: 0.08917197452229299\n"
          ]
        }
      ]
    },
    {
      "cell_type": "markdown",
      "source": [
        "## Agent Break Scheduling\n",
        "In Agent Break Scheduling, one agent takes a 15-minute break starting at hour 3. The simulation generates call arrival and service times and processes them using 5 agents—except during the break, when only 4 are available. It adjusts agent availability accordingly and calculates each customer’s wait time. Finally, it returns the average wait time in minutes to show how scheduled breaks affect service."
      ],
      "metadata": {
        "id": "57OW-fcjMP0q"
      }
    },
    {
      "cell_type": "code",
      "source": [
        "def simulate_with_breaks(s,break_start=3,break_length=0.25):\n",
        "  arrivals=np.cumsum(np.random.exponential(1/lamb,int(lamb*shift_hours*1.5)))\n",
        "  arrivals=arrivals[arrivals<shift_hours]\n",
        "  service=np.random.exponential(1/mu,len(arrivals))\n",
        "  next_free=np.zeros(s)\n",
        "  waits=[]\n",
        "  for i,t in enumerate(arrivals):\n",
        "    #if in break window, one fewer agent\n",
        "    avail=next_free.copy()\n",
        "    if break_start<t<break_start+break_length:\n",
        "      avail=np.delete(avail,0) #simulate 1 agent on break\n",
        "    j=np.argmin(avail)\n",
        "    start=max(t,avail[j])\n",
        "    waits.append(start-t)\n",
        "    #update that agents free time in original array\n",
        "    idx=j+(1 if break_start<t<break_start+break_length else 0)\n",
        "    next_free[j]=start+service[i]\n",
        "  return np.array(waits)\n",
        "w_b=simulate_with_breaks(5)\n",
        "print(\"Average wait time(min):\",w_b.mean()*60)"
      ],
      "metadata": {
        "colab": {
          "base_uri": "https://localhost:8080/"
        },
        "id": "hPl6L9NzMKRb",
        "outputId": "e3c400d6-6dd1-4338-b399-bc2322db0efd"
      },
      "execution_count": 12,
      "outputs": [
        {
          "output_type": "stream",
          "name": "stdout",
          "text": [
            "Average wait time(min): 8.21139203274959\n"
          ]
        }
      ]
    },
    {
      "cell_type": "markdown",
      "source": [
        "## Cost-Based Staffing Optimization\n",
        "Cost-based staffing optimization finds the best number of agents to minimize total costs in a call center. It considers:\n",
        "\n",
        "1. Agent cost – \\$20/hour per agent\n",
        "2. Wait cost – \\$0.50 per minute of customer waiting\n",
        "\n",
        "For 1 to 5 agents, it simulates calls (with possible abandonment), calculates total wait time, and computes the total cost (staffing + waiting). It then identifies the staffing level with the lowest total cost."
      ],
      "metadata": {
        "id": "IN7r_zyFMZwp"
      }
    },
    {
      "cell_type": "code",
      "source": [
        "#How many agents should we hire?\n",
        "c_agent=20 # $20/hr per agent\n",
        "c_wait=0.50 # $0.50 per minute waited\n",
        "costs=[]\n",
        "for s in range(1,6):\n",
        "  w,_=simulate_with_abandon(s)\n",
        "  total_wait_cost=w.sum()*60*c_wait\n",
        "  staff_cost=s*c_agent*shift_hours\n",
        "  costs.append((s,staff_cost+total_wait_cost))\n",
        "opt=min(costs,key=lambda x:x[1])\n",
        "print(\"Agent coun,total cost:\")\n",
        "for s,c in costs:print(f\"s={s}:${c:,.0f}\")\n",
        "print(f\"optimal s by cost={opt[0]}\")"
      ],
      "metadata": {
        "colab": {
          "base_uri": "https://localhost:8080/"
        },
        "id": "NN9nV7y2MU2P",
        "outputId": "4432c208-dc07-4ee5-e215-cd4edf63c601"
      },
      "execution_count": 13,
      "outputs": [
        {
          "output_type": "stream",
          "name": "stdout",
          "text": [
            "Agent coun,total cost:\n",
            "s=1:$197\n",
            "s=2:$406\n",
            "s=3:$576\n",
            "s=4:$691\n",
            "s=5:$838\n",
            "optimal s by cost=1\n"
          ]
        }
      ]
    },
    {
      "cell_type": "markdown",
      "source": [
        "## Multi-Day variability and sensitivity analysis\n",
        "This checks how the call center performs over 31 days using the optimal number of agents found earlier. Each day, it simulates calls and records the average and 95th percentile wait times. Results are saved in a table and shown in a histogram to visualize patterns. A summary highlights the shortest, longest, and average wait times, showing how consistent or varied the service was each day.\n"
      ],
      "metadata": {
        "id": "BupgAy3pMixe"
      }
    },
    {
      "cell_type": "code",
      "source": [
        "days=31\n",
        "daily=[]\n",
        "for _ in range(days):\n",
        "  w,_=simulate_with_abandon(opt[0])\n",
        "  daily.append((w.mean()*60,np.percentile(w*60,95)))\n",
        "df=pd.DataFrame(daily,columns=['Avg wait(min)','95th pct wait(min)'])\n",
        "print(df)\n",
        "df.hist(bins=10)\n",
        "plt.suptitle('30-Day variability in wait Times')\n",
        "plt.show()\n",
        "df.describe()"
      ],
      "metadata": {
        "colab": {
          "base_uri": "https://localhost:8080/",
          "height": 1000
        },
        "id": "scrZHjMWMgC2",
        "outputId": "7398e981-5de9-4bfd-ccd3-f319c68bf984"
      },
      "execution_count": 14,
      "outputs": [
        {
          "output_type": "stream",
          "name": "stdout",
          "text": [
            "    Avg wait(min)  95th pct wait(min)\n",
            "0        1.900674            4.666930\n",
            "1        2.018578            4.702022\n",
            "2        1.894927            4.813067\n",
            "3        1.772763            4.712760\n",
            "4        2.565484            4.493289\n",
            "5        1.660560            4.642374\n",
            "6        2.477172            4.734984\n",
            "7        2.534343            4.621639\n",
            "8        2.117772            4.817771\n",
            "9        2.107133            4.940171\n",
            "10       2.348147            4.670139\n",
            "11       1.904122            4.843447\n",
            "12       2.573250            4.840325\n",
            "13       2.318277            4.730032\n",
            "14       2.474544            4.707353\n",
            "15       2.337149            4.670702\n",
            "16       1.957499            4.715729\n",
            "17       2.873523            4.706679\n",
            "18       2.452938            4.791494\n",
            "19       2.227883            4.708684\n",
            "20       2.268363            4.765408\n",
            "21       1.784975            3.924112\n",
            "22       2.075801            4.858744\n",
            "23       2.259764            4.742836\n",
            "24       2.813892            4.594187\n",
            "25       2.244121            4.717236\n",
            "26       2.753804            4.914027\n",
            "27       2.253814            4.824088\n",
            "28       2.352375            4.740586\n",
            "29       2.363198            4.870104\n",
            "30       2.551171            4.822903\n"
          ]
        },
        {
          "output_type": "display_data",
          "data": {
            "text/plain": [
              "<Figure size 640x480 with 2 Axes>"
            ],
            "image/png": "[encoded data removed]"
          },
          "metadata": {}
        },
        {
          "output_type": "execute_result",
          "data": {
            "text/plain": [
              "       Avg wait(min)  95th pct wait(min)\n",
              "count      31.000000           31.000000\n",
              "mean        2.265743            4.719478\n",
              "std         0.310073            0.176131\n",
              "min         1.660560            3.924112\n",
              "25%         2.047189            4.686362\n",
              "50%         2.268363            4.730032\n",
              "75%         2.475858            4.820337\n",
              "max         2.873523            4.940171"
            ],
            "text/html": [
              "\n",
              "  <div id=\"df-c2f3c723-1cd8-4601-a01a-62a4c38e6eb5\" class=\"colab-df-container\">\n",
              "    <div>\n",
              "<style scoped>\n",
              "    .dataframe tbody tr th:only-of-type {\n",
              "        vertical-align: middle;\n",
              "    }\n",
              "\n",
              "    .dataframe tbody tr th {\n",
              "        vertical-align: top;\n",
              "    }\n",
              "\n",
              "    .dataframe thead th {\n",
              "        text-align: right;\n",
              "    }\n",
              "</style>\n",
              "<table border=\"1\" class=\"dataframe\">\n",
              "  <thead>\n",
              "    <tr style=\"text-align: right;\">\n",
              "      <th></th>\n",
              "      <th>Avg wait(min)</th>\n",
              "      <th>95th pct wait(min)</th>\n",
              "    </tr>\n",
              "  </thead>\n",
              "  <tbody>\n",
              "    <tr>\n",
              "      <th>count</th>\n",
              "      <td>31.000000</td>\n",
              "      <td>31.000000</td>\n",
              "    </tr>\n",
              "    <tr>\n",
              "      <th>mean</th>\n",
              "      <td>2.265743</td>\n",
              "      <td>4.719478</td>\n",
              "    </tr>\n",
              "    <tr>\n",
              "      <th>std</th>\n",
              "      <td>0.310073</td>\n",
              "      <td>0.176131</td>\n",
              "    </tr>\n",
              "    <tr>\n",
              "      <th>min</th>\n",
              "      <td>1.660560</td>\n",
              "      <td>3.924112</td>\n",
              "    </tr>\n",
              "    <tr>\n",
              "      <th>25%</th>\n",
              "      <td>2.047189</td>\n",
              "      <td>4.686362</td>\n",
              "    </tr>\n",
              "    <tr>\n",
              "      <th>50%</th>\n",
              "      <td>2.268363</td>\n",
              "      <td>4.730032</td>\n",
              "    </tr>\n",
              "    <tr>\n",
              "      <th>75%</th>\n",
              "      <td>2.475858</td>\n",
              "      <td>4.820337</td>\n",
              "    </tr>\n",
              "    <tr>\n",
              "      <th>max</th>\n",
              "      <td>2.873523</td>\n",
              "      <td>4.940171</td>\n",
              "    </tr>\n",
              "  </tbody>\n",
              "</table>\n",
              "</div>\n",
              "    <div class=\"colab-df-buttons\">\n",
              "\n",
              "  <div class=\"colab-df-container\">\n",
              "    <button class=\"colab-df-convert\" onclick=\"convertToInteractive('df-c2f3c723-1cd8-4601-a01a-62a4c38e6eb5')\"\n",
              "            title=\"Convert this dataframe to an interactive table.\"\n",
              "            style=\"display:none;\">\n",
              "\n",
              "  <svg xmlns=\"http://www.w3.org/2000/svg\" height=\"24px\" viewBox=\"0 -960 960 960\">\n",
              "    <path d=\"M120-120v-720h720v720H120Zm60-500h600v-160H180v160Zm220 220h160v-160H400v160Zm0 220h160v-160H400v160ZM180-400h160v-160H180v160Zm440 0h160v-160H620v160ZM180-180h160v-160H180v160Zm440 0h160v-160H620v160Z\"/>\n",
              "  </svg>\n",
              "    </button>\n",
              "\n",
              "  <style>\n",
              "    .colab-df-container {\n",
              "      display:flex;\n",
              "      gap: 12px;\n",
              "    }\n",
              "\n",
              "    .colab-df-convert {\n",
              "      background-color: #E8F0FE;\n",
              "      border: none;\n",
              "      border-radius: 50%;\n",
              "      cursor: pointer;\n",
              "      display: none;\n",
              "      fill: #1967D2;\n",
              "      height: 32px;\n",
              "      padding: 0 0 0 0;\n",
              "      width: 32px;\n",
              "    }\n",
              "\n",
              "    .colab-df-convert:hover {\n",
              "      background-color: #E2EBFA;\n",
              "      box-shadow: 0px 1px 2px rgba(60, 64, 67, 0.3), 0px 1px 3px 1px rgba(60, 64, 67, 0.15);\n",
              "      fill: #174EA6;\n",
              "    }\n",
              "\n",
              "    .colab-df-buttons div {\n",
              "      margin-bottom: 4px;\n",
              "    }\n",
              "\n",
              "    [theme=dark] .colab-df-convert {\n",
              "      background-color: #3B4455;\n",
              "      fill: #D2E3FC;\n",
              "    }\n",
              "\n",
              "    [theme=dark] .colab-df-convert:hover {\n",
              "      background-color: #434B5C;\n",
              "      box-shadow: 0px 1px 3px 1px rgba(0, 0, 0, 0.15);\n",
              "      filter: drop-shadow(0px 1px 2px rgba(0, 0, 0, 0.3));\n",
              "      fill: #FFFFFF;\n",
              "    }\n",
              "  </style>\n",
              "\n",
              "    <script>\n",
              "      const buttonEl =\n",
              "        document.querySelector('#df-c2f3c723-1cd8-4601-a01a-62a4c38e6eb5 button.colab-df-convert');\n",
              "      buttonEl.style.display =\n",
              "        google.colab.kernel.accessAllowed ? 'block' : 'none';\n",
              "\n",
              "      async function convertToInteractive(key) {\n",
              "        const element = document.querySelector('#df-c2f3c723-1cd8-4601-a01a-62a4c38e6eb5');\n",
              "        const dataTable =\n",
              "          await google.colab.kernel.invokeFunction('convertToInteractive',\n",
              "                                                    [key], {});\n",
              "        if (!dataTable) return;\n",
              "\n",
              "        const docLinkHtml = 'Like what you see? Visit the ' +\n",
              "          '<a target=\"_blank\" href=https://colab.research.google.com/notebooks/data_table.ipynb>data table notebook</a>'\n",
              "          + ' to learn more about interactive tables.';\n",
              "        element.innerHTML = '';\n",
              "        dataTable['output_type'] = 'display_data';\n",
              "        await google.colab.output.renderOutput(dataTable, element);\n",
              "        const docLink = document.createElement('div');\n",
              "        docLink.innerHTML = docLinkHtml;\n",
              "        element.appendChild(docLink);\n",
              "      }\n",
              "    </script>\n",
              "  </div>\n",
              "\n",
              "\n",
              "    <div id=\"df-c62e05c4-12a1-4ebb-801b-a22cee765785\">\n",
              "      <button class=\"colab-df-quickchart\" onclick=\"quickchart('df-c62e05c4-12a1-4ebb-801b-a22cee765785')\"\n",
              "                title=\"Suggest charts\"\n",
              "                style=\"display:none;\">\n",
              "\n",
              "<svg xmlns=\"http://www.w3.org/2000/svg\" height=\"24px\"viewBox=\"0 0 24 24\"\n",
              "     width=\"24px\">\n",
              "    <g>\n",
              "        <path d=\"M19 3H5c-1.1 0-2 .9-2 2v14c0 1.1.9 2 2 2h14c1.1 0 2-.9 2-2V5c0-1.1-.9-2-2-2zM9 17H7v-7h2v7zm4 0h-2V7h2v10zm4 0h-2v-4h2v4z\"/>\n",
              "    </g>\n",
              "</svg>\n",
              "      </button>\n",
              "\n",
              "<style>\n",
              "  .colab-df-quickchart {\n",
              "      --bg-color: #E8F0FE;\n",
              "      --fill-color: #1967D2;\n",
              "      --hover-bg-color: #E2EBFA;\n",
              "      --hover-fill-color: #174EA6;\n",
              "      --disabled-fill-color: #AAA;\n",
              "      --disabled-bg-color: #DDD;\n",
              "  }\n",
              "\n",
              "  [theme=dark] .colab-df-quickchart {\n",
              "      --bg-color: #3B4455;\n",
              "      --fill-color: #D2E3FC;\n",
              "      --hover-bg-color: #434B5C;\n",
              "      --hover-fill-color: #FFFFFF;\n",
              "      --disabled-bg-color: #3B4455;\n",
              "      --disabled-fill-color: #666;\n",
              "  }\n",
              "\n",
              "  .colab-df-quickchart {\n",
              "    background-color: var(--bg-color);\n",
              "    border: none;\n",
              "    border-radius: 50%;\n",
              "    cursor: pointer;\n",
              "    display: none;\n",
              "    fill: var(--fill-color);\n",
              "    height: 32px;\n",
              "    padding: 0;\n",
              "    width: 32px;\n",
              "  }\n",
              "\n",
              "  .colab-df-quickchart:hover {\n",
              "    background-color: var(--hover-bg-color);\n",
              "    box-shadow: 0 1px 2px rgba(60, 64, 67, 0.3), 0 1px 3px 1px rgba(60, 64, 67, 0.15);\n",
              "    fill: var(--button-hover-fill-color);\n",
              "  }\n",
              "\n",
              "  .colab-df-quickchart-complete:disabled,\n",
              "  .colab-df-quickchart-complete:disabled:hover {\n",
              "    background-color: var(--disabled-bg-color);\n",
              "    fill: var(--disabled-fill-color);\n",
              "    box-shadow: none;\n",
              "  }\n",
              "\n",
              "  .colab-df-spinner {\n",
              "    border: 2px solid var(--fill-color);\n",
              "    border-color: transparent;\n",
              "    border-bottom-color: var(--fill-color);\n",
              "    animation:\n",
              "      spin 1s steps(1) infinite;\n",
              "  }\n",
              "\n",
              "  @keyframes spin {\n",
              "    0% {\n",
              "      border-color: transparent;\n",
              "      border-bottom-color: var(--fill-color);\n",
              "      border-left-color: var(--fill-color);\n",
              "    }\n",
              "    20% {\n",
              "      border-color: transparent;\n",
              "      border-left-color: var(--fill-color);\n",
              "      border-top-color: var(--fill-color);\n",
              "    }\n",
              "    30% {\n",
              "      border-color: transparent;\n",
              "      border-left-color: var(--fill-color);\n",
              "      border-top-color: var(--fill-color);\n",
              "      border-right-color: var(--fill-color);\n",
              "    }\n",
              "    40% {\n",
              "      border-color: transparent;\n",
              "      border-right-color: var(--fill-color);\n",
              "      border-top-color: var(--fill-color);\n",
              "    }\n",
              "    60% {\n",
              "      border-color: transparent;\n",
              "      border-right-color: var(--fill-color);\n",
              "    }\n",
              "    80% {\n",
              "      border-color: transparent;\n",
              "      border-right-color: var(--fill-color);\n",
              "      border-bottom-color: var(--fill-color);\n",
              "    }\n",
              "    90% {\n",
              "      border-color: transparent;\n",
              "      border-bottom-color: var(--fill-color);\n",
              "    }\n",
              "  }\n",
              "</style>\n",
              "\n",
              "      <script>\n",
              "        async function quickchart(key) {\n",
              "          const quickchartButtonEl =\n",
              "            document.querySelector('#' + key + ' button');\n",
              "          quickchartButtonEl.disabled = true;  // To prevent multiple clicks.\n",
              "          quickchartButtonEl.classList.add('colab-df-spinner');\n",
              "          try {\n",
              "            const charts = await google.colab.kernel.invokeFunction(\n",
              "                'suggestCharts', [key], {});\n",
              "          } catch (error) {\n",
              "            console.error('Error during call to suggestCharts:', error);\n",
              "          }\n",
              "          quickchartButtonEl.classList.remove('colab-df-spinner');\n",
              "          quickchartButtonEl.classList.add('colab-df-quickchart-complete');\n",
              "        }\n",
              "        (() => {\n",
              "          let quickchartButtonEl =\n",
              "            document.querySelector('#df-c62e05c4-12a1-4ebb-801b-a22cee765785 button');\n",
              "          quickchartButtonEl.style.display =\n",
              "            google.colab.kernel.accessAllowed ? 'block' : 'none';\n",
              "        })();\n",
              "      </script>\n",
              "    </div>\n",
              "\n",
              "    </div>\n",
              "  </div>\n"
            ],
            "application/vnd.google.colaboratory.intrinsic+json": {
              "type": "dataframe",
              "summary": "{\n  \"name\": \"df\",\n  \"rows\": 8,\n  \"fields\": [\n    {\n      \"column\": \"Avg wait(min)\",\n      \"properties\": {\n        \"dtype\": \"number\",\n        \"std\": 10.286570344951906,\n        \"min\": 0.3100734539277614,\n        \"max\": 31.0,\n        \"num_unique_values\": 8,\n        \"samples\": [\n          2.2657425108575997,\n          2.268362839646423,\n          31.0\n        ],\n        \"semantic_type\": \"\",\n        \"description\": \"\"\n      }\n    },\n    {\n      \"column\": \"95th pct wait(min)\",\n      \"properties\": {\n        \"dtype\": \"number\",\n        \"std\": 9.677692205433214,\n        \"min\": 0.17613104559617065,\n        \"max\": 31.0,\n        \"num_unique_values\": 8,\n        \"samples\": [\n          4.71947817399044,\n          4.7300315266971396,\n          31.0\n        ],\n        \"semantic_type\": \"\",\n        \"description\": \"\"\n      }\n    }\n  ]\n}"
            }
          },
          "metadata": {},
          "execution_count": 14
        }
      ]
    },
    {
      "cell_type": "markdown",
      "source": [
        "## Conclusion\n",
        "\n",
        "In this project, we simulated a call center to find how many agents are needed to handle customer calls efficiently during an 8-hour shift. Using the M/M/s queue model, we looked at arrival rates, service times, wait times, and system load.\n",
        "\n",
        "We explored how different factors affect performance, including:\n",
        "\n",
        "* Varying the number of agents\n",
        "* Busy and slow periods during the day\n",
        "* Customers leaving if wait times are too long\n",
        "* Agent break times\n",
        "* Balancing staffing and wait costs\n",
        "* Daily performance over a month\n",
        "\n",
        "### Final Decision:\n",
        "\n",
        "After testing different setups, we found that **5 agents** strike the best balance. They keep wait times under 5 minutes for most customers, limit abandonment, and minimize total costs."
      ],
      "metadata": {
        "id": "BzrRQQvdMzhp"
      }
    },
    {
      "cell_type": "code",
      "source": [],
      "metadata": {
        "id": "Et5YikggMqWi"
      },
      "execution_count": null,
      "outputs": []
    }
  ]
}