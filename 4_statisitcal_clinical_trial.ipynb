{
  "nbformat": 4,
  "nbformat_minor": 0,
  "metadata": {
    "colab": {
      "provenance": []
    },
    "kernelspec": {
      "name": "python3",
      "display_name": "Python 3"
    },
    "language_info": {
      "name": "python"
    }
  },
  "cells": [
    {
      "cell_type": "markdown",
      "source": [
        "### Clinical-Trial Survival Analysis for Treatment Efficacy\n",
        "lifelines Python package is a library used for survival analysis."
      ],
      "metadata": {
        "id": "4e7jg1yEbiGj"
      }
    },
    {
      "cell_type": "code",
      "execution_count": null,
      "metadata": {
        "id": "2OE8VjRqOXBA",
        "colab": {
          "base_uri": "https://localhost:8080/"
        },
        "outputId": "95577914-02ed-489c-97b4-da7f1f46cb06"
      },
      "outputs": [
        {
          "output_type": "stream",
          "name": "stdout",
          "text": [
            "  Preparing metadata (setup.py) ... \u001b[?25l\u001b[?25hdone\n",
            "\u001b[2K   \u001b[90m━━━━━━━━━━━━━━━━━━━━━━━━━━━━━━━━━━━━━━━━\u001b[0m \u001b[32m349.3/349.3 kB\u001b[0m \u001b[31m6.0 MB/s\u001b[0m eta \u001b[36m0:00:00\u001b[0m\n",
            "\u001b[2K   \u001b[90m━━━━━━━━━━━━━━━━━━━━━━━━━━━━━━━━━━━━━━━━\u001b[0m \u001b[32m115.7/115.7 kB\u001b[0m \u001b[31m7.1 MB/s\u001b[0m eta \u001b[36m0:00:00\u001b[0m\n",
            "\u001b[?25h  Building wheel for autograd-gamma (setup.py) ... \u001b[?25l\u001b[?25hdone\n"
          ]
        }
      ],
      "source": [
        "!pip install lifelines --quiet"
      ]
    },
    {
      "cell_type": "markdown",
      "source": [
        "lifelines package: KaplanMeierFitter for non-parametric survival curves, CoxPHFitter for regression analysis on survival data, and logrank_test to statistically compare survival functions."
      ],
      "metadata": {
        "id": "1xjjx2niPZlr"
      }
    },
    {
      "cell_type": "code",
      "source": [
        "# Import necessary libraries\n",
        "from lifelines import KaplanMeierFitter,CoxPHFitter\n",
        "from lifelines.statistics import logrank_test\n",
        "import pandas as pd\n",
        "import numpy as np\n",
        "import matplotlib.pyplot as plt\n",
        "import seaborn as sns"
      ],
      "metadata": {
        "id": "MiQHUlqNbVvE"
      },
      "execution_count": null,
      "outputs": []
    },
    {
      "cell_type": "code",
      "source": [
        "df=pd.read_csv('https://samatrix-data.s3.ap-south-1.amazonaws.com/Statistics-Project/veteran.csv')\n",
        "df.info()"
      ],
      "metadata": {
        "colab": {
          "base_uri": "https://localhost:8080/"
        },
        "id": "vO58YbZAbki9",
        "outputId": "dfa53e89-459b-407d-ef02-f25749ba1746"
      },
      "execution_count": null,
      "outputs": [
        {
          "output_type": "stream",
          "name": "stdout",
          "text": [
            "<class 'pandas.core.frame.DataFrame'>\n",
            "RangeIndex: 274 entries, 0 to 273\n",
            "Data columns (total 9 columns):\n",
            " #   Column        Non-Null Count  Dtype \n",
            "---  ------        --------------  ----- \n",
            " 0   ID            274 non-null    int64 \n",
            " 1   TIME          274 non-null    int64 \n",
            " 2   Y             274 non-null    int64 \n",
            " 3   trt           274 non-null    object\n",
            " 4   celltype      274 non-null    object\n",
            " 5   karno         274 non-null    int64 \n",
            " 6   diagtime      274 non-null    int64 \n",
            " 7   age           274 non-null    int64 \n",
            " 8   priortherapy  274 non-null    object\n",
            "dtypes: int64(6), object(3)\n",
            "memory usage: 19.4+ KB\n"
          ]
        }
      ]
    },
    {
      "cell_type": "code",
      "source": [
        "df.head()"
      ],
      "metadata": {
        "id": "hd0akkyJcJUW",
        "outputId": "ef54e8b2-ccee-48e0-ecc1-e0207237a1dd",
        "colab": {
          "base_uri": "https://localhost:8080/",
          "height": 206
        }
      },
      "execution_count": null,
      "outputs": [
        {
          "output_type": "execute_result",
          "data": {
            "text/plain": [
              "   ID  TIME  Y       trt  celltype  karno  diagtime  age priortherapy\n",
              "0   1     0  0  standard  squamous     60         7   69           no\n",
              "1   1    72  1  standard  squamous     60         7   69           no\n",
              "2   2     0  0  standard  squamous     70         5   64          yes\n",
              "3   2   411  1  standard  squamous     70         5   64          yes\n",
              "4   3     0  0  standard  squamous     60         3   38           no"
            ],
            "text/html": [
              "\n",
              "  <div id=\"df-2f5a0044-a201-42f0-80f7-e7abc8ae7807\" class=\"colab-df-container\">\n",
              "    <div>\n",
              "<style scoped>\n",
              "    .dataframe tbody tr th:only-of-type {\n",
              "        vertical-align: middle;\n",
              "    }\n",
              "\n",
              "    .dataframe tbody tr th {\n",
              "        vertical-align: top;\n",
              "    }\n",
              "\n",
              "    .dataframe thead th {\n",
              "        text-align: right;\n",
              "    }\n",
              "</style>\n",
              "<table border=\"1\" class=\"dataframe\">\n",
              "  <thead>\n",
              "    <tr style=\"text-align: right;\">\n",
              "      <th></th>\n",
              "      <th>ID</th>\n",
              "      <th>TIME</th>\n",
              "      <th>Y</th>\n",
              "      <th>trt</th>\n",
              "      <th>celltype</th>\n",
              "      <th>karno</th>\n",
              "      <th>diagtime</th>\n",
              "      <th>age</th>\n",
              "      <th>priortherapy</th>\n",
              "    </tr>\n",
              "  </thead>\n",
              "  <tbody>\n",
              "    <tr>\n",
              "      <th>0</th>\n",
              "      <td>1</td>\n",
              "      <td>0</td>\n",
              "      <td>0</td>\n",
              "      <td>standard</td>\n",
              "      <td>squamous</td>\n",
              "      <td>60</td>\n",
              "      <td>7</td>\n",
              "      <td>69</td>\n",
              "      <td>no</td>\n",
              "    </tr>\n",
              "    <tr>\n",
              "      <th>1</th>\n",
              "      <td>1</td>\n",
              "      <td>72</td>\n",
              "      <td>1</td>\n",
              "      <td>standard</td>\n",
              "      <td>squamous</td>\n",
              "      <td>60</td>\n",
              "      <td>7</td>\n",
              "      <td>69</td>\n",
              "      <td>no</td>\n",
              "    </tr>\n",
              "    <tr>\n",
              "      <th>2</th>\n",
              "      <td>2</td>\n",
              "      <td>0</td>\n",
              "      <td>0</td>\n",
              "      <td>standard</td>\n",
              "      <td>squamous</td>\n",
              "      <td>70</td>\n",
              "      <td>5</td>\n",
              "      <td>64</td>\n",
              "      <td>yes</td>\n",
              "    </tr>\n",
              "    <tr>\n",
              "      <th>3</th>\n",
              "      <td>2</td>\n",
              "      <td>411</td>\n",
              "      <td>1</td>\n",
              "      <td>standard</td>\n",
              "      <td>squamous</td>\n",
              "      <td>70</td>\n",
              "      <td>5</td>\n",
              "      <td>64</td>\n",
              "      <td>yes</td>\n",
              "    </tr>\n",
              "    <tr>\n",
              "      <th>4</th>\n",
              "      <td>3</td>\n",
              "      <td>0</td>\n",
              "      <td>0</td>\n",
              "      <td>standard</td>\n",
              "      <td>squamous</td>\n",
              "      <td>60</td>\n",
              "      <td>3</td>\n",
              "      <td>38</td>\n",
              "      <td>no</td>\n",
              "    </tr>\n",
              "  </tbody>\n",
              "</table>\n",
              "</div>\n",
              "    <div class=\"colab-df-buttons\">\n",
              "\n",
              "  <div class=\"colab-df-container\">\n",
              "    <button class=\"colab-df-convert\" onclick=\"convertToInteractive('df-2f5a0044-a201-42f0-80f7-e7abc8ae7807')\"\n",
              "            title=\"Convert this dataframe to an interactive table.\"\n",
              "            style=\"display:none;\">\n",
              "\n",
              "  <svg xmlns=\"http://www.w3.org/2000/svg\" height=\"24px\" viewBox=\"0 -960 960 960\">\n",
              "    <path d=\"M120-120v-720h720v720H120Zm60-500h600v-160H180v160Zm220 220h160v-160H400v160Zm0 220h160v-160H400v160ZM180-400h160v-160H180v160Zm440 0h160v-160H620v160ZM180-180h160v-160H180v160Zm440 0h160v-160H620v160Z\"/>\n",
              "  </svg>\n",
              "    </button>\n",
              "\n",
              "  <style>\n",
              "    .colab-df-container {\n",
              "      display:flex;\n",
              "      gap: 12px;\n",
              "    }\n",
              "\n",
              "    .colab-df-convert {\n",
              "      background-color: #E8F0FE;\n",
              "      border: none;\n",
              "      border-radius: 50%;\n",
              "      cursor: pointer;\n",
              "      display: none;\n",
              "      fill: #1967D2;\n",
              "      height: 32px;\n",
              "      padding: 0 0 0 0;\n",
              "      width: 32px;\n",
              "    }\n",
              "\n",
              "    .colab-df-convert:hover {\n",
              "      background-color: #E2EBFA;\n",
              "      box-shadow: 0px 1px 2px rgba(60, 64, 67, 0.3), 0px 1px 3px 1px rgba(60, 64, 67, 0.15);\n",
              "      fill: #174EA6;\n",
              "    }\n",
              "\n",
              "    .colab-df-buttons div {\n",
              "      margin-bottom: 4px;\n",
              "    }\n",
              "\n",
              "    [theme=dark] .colab-df-convert {\n",
              "      background-color: #3B4455;\n",
              "      fill: #D2E3FC;\n",
              "    }\n",
              "\n",
              "    [theme=dark] .colab-df-convert:hover {\n",
              "      background-color: #434B5C;\n",
              "      box-shadow: 0px 1px 3px 1px rgba(0, 0, 0, 0.15);\n",
              "      filter: drop-shadow(0px 1px 2px rgba(0, 0, 0, 0.3));\n",
              "      fill: #FFFFFF;\n",
              "    }\n",
              "  </style>\n",
              "\n",
              "    <script>\n",
              "      const buttonEl =\n",
              "        document.querySelector('#df-2f5a0044-a201-42f0-80f7-e7abc8ae7807 button.colab-df-convert');\n",
              "      buttonEl.style.display =\n",
              "        google.colab.kernel.accessAllowed ? 'block' : 'none';\n",
              "\n",
              "      async function convertToInteractive(key) {\n",
              "        const element = document.querySelector('#df-2f5a0044-a201-42f0-80f7-e7abc8ae7807');\n",
              "        const dataTable =\n",
              "          await google.colab.kernel.invokeFunction('convertToInteractive',\n",
              "                                                    [key], {});\n",
              "        if (!dataTable) return;\n",
              "\n",
              "        const docLinkHtml = 'Like what you see? Visit the ' +\n",
              "          '<a target=\"_blank\" href=https://colab.research.google.com/notebooks/data_table.ipynb>data table notebook</a>'\n",
              "          + ' to learn more about interactive tables.';\n",
              "        element.innerHTML = '';\n",
              "        dataTable['output_type'] = 'display_data';\n",
              "        await google.colab.output.renderOutput(dataTable, element);\n",
              "        const docLink = document.createElement('div');\n",
              "        docLink.innerHTML = docLinkHtml;\n",
              "        element.appendChild(docLink);\n",
              "      }\n",
              "    </script>\n",
              "  </div>\n",
              "\n",
              "\n",
              "    <div id=\"df-3f5e67ed-7d45-42cf-ae34-015dbf5ed72e\">\n",
              "      <button class=\"colab-df-quickchart\" onclick=\"quickchart('df-3f5e67ed-7d45-42cf-ae34-015dbf5ed72e')\"\n",
              "                title=\"Suggest charts\"\n",
              "                style=\"display:none;\">\n",
              "\n",
              "<svg xmlns=\"http://www.w3.org/2000/svg\" height=\"24px\"viewBox=\"0 0 24 24\"\n",
              "     width=\"24px\">\n",
              "    <g>\n",
              "        <path d=\"M19 3H5c-1.1 0-2 .9-2 2v14c0 1.1.9 2 2 2h14c1.1 0 2-.9 2-2V5c0-1.1-.9-2-2-2zM9 17H7v-7h2v7zm4 0h-2V7h2v10zm4 0h-2v-4h2v4z\"/>\n",
              "    </g>\n",
              "</svg>\n",
              "      </button>\n",
              "\n",
              "<style>\n",
              "  .colab-df-quickchart {\n",
              "      --bg-color: #E8F0FE;\n",
              "      --fill-color: #1967D2;\n",
              "      --hover-bg-color: #E2EBFA;\n",
              "      --hover-fill-color: #174EA6;\n",
              "      --disabled-fill-color: #AAA;\n",
              "      --disabled-bg-color: #DDD;\n",
              "  }\n",
              "\n",
              "  [theme=dark] .colab-df-quickchart {\n",
              "      --bg-color: #3B4455;\n",
              "      --fill-color: #D2E3FC;\n",
              "      --hover-bg-color: #434B5C;\n",
              "      --hover-fill-color: #FFFFFF;\n",
              "      --disabled-bg-color: #3B4455;\n",
              "      --disabled-fill-color: #666;\n",
              "  }\n",
              "\n",
              "  .colab-df-quickchart {\n",
              "    background-color: var(--bg-color);\n",
              "    border: none;\n",
              "    border-radius: 50%;\n",
              "    cursor: pointer;\n",
              "    display: none;\n",
              "    fill: var(--fill-color);\n",
              "    height: 32px;\n",
              "    padding: 0;\n",
              "    width: 32px;\n",
              "  }\n",
              "\n",
              "  .colab-df-quickchart:hover {\n",
              "    background-color: var(--hover-bg-color);\n",
              "    box-shadow: 0 1px 2px rgba(60, 64, 67, 0.3), 0 1px 3px 1px rgba(60, 64, 67, 0.15);\n",
              "    fill: var(--button-hover-fill-color);\n",
              "  }\n",
              "\n",
              "  .colab-df-quickchart-complete:disabled,\n",
              "  .colab-df-quickchart-complete:disabled:hover {\n",
              "    background-color: var(--disabled-bg-color);\n",
              "    fill: var(--disabled-fill-color);\n",
              "    box-shadow: none;\n",
              "  }\n",
              "\n",
              "  .colab-df-spinner {\n",
              "    border: 2px solid var(--fill-color);\n",
              "    border-color: transparent;\n",
              "    border-bottom-color: var(--fill-color);\n",
              "    animation:\n",
              "      spin 1s steps(1) infinite;\n",
              "  }\n",
              "\n",
              "  @keyframes spin {\n",
              "    0% {\n",
              "      border-color: transparent;\n",
              "      border-bottom-color: var(--fill-color);\n",
              "      border-left-color: var(--fill-color);\n",
              "    }\n",
              "    20% {\n",
              "      border-color: transparent;\n",
              "      border-left-color: var(--fill-color);\n",
              "      border-top-color: var(--fill-color);\n",
              "    }\n",
              "    30% {\n",
              "      border-color: transparent;\n",
              "      border-left-color: var(--fill-color);\n",
              "      border-top-color: var(--fill-color);\n",
              "      border-right-color: var(--fill-color);\n",
              "    }\n",
              "    40% {\n",
              "      border-color: transparent;\n",
              "      border-right-color: var(--fill-color);\n",
              "      border-top-color: var(--fill-color);\n",
              "    }\n",
              "    60% {\n",
              "      border-color: transparent;\n",
              "      border-right-color: var(--fill-color);\n",
              "    }\n",
              "    80% {\n",
              "      border-color: transparent;\n",
              "      border-right-color: var(--fill-color);\n",
              "      border-bottom-color: var(--fill-color);\n",
              "    }\n",
              "    90% {\n",
              "      border-color: transparent;\n",
              "      border-bottom-color: var(--fill-color);\n",
              "    }\n",
              "  }\n",
              "</style>\n",
              "\n",
              "      <script>\n",
              "        async function quickchart(key) {\n",
              "          const quickchartButtonEl =\n",
              "            document.querySelector('#' + key + ' button');\n",
              "          quickchartButtonEl.disabled = true;  // To prevent multiple clicks.\n",
              "          quickchartButtonEl.classList.add('colab-df-spinner');\n",
              "          try {\n",
              "            const charts = await google.colab.kernel.invokeFunction(\n",
              "                'suggestCharts', [key], {});\n",
              "          } catch (error) {\n",
              "            console.error('Error during call to suggestCharts:', error);\n",
              "          }\n",
              "          quickchartButtonEl.classList.remove('colab-df-spinner');\n",
              "          quickchartButtonEl.classList.add('colab-df-quickchart-complete');\n",
              "        }\n",
              "        (() => {\n",
              "          let quickchartButtonEl =\n",
              "            document.querySelector('#df-3f5e67ed-7d45-42cf-ae34-015dbf5ed72e button');\n",
              "          quickchartButtonEl.style.display =\n",
              "            google.colab.kernel.accessAllowed ? 'block' : 'none';\n",
              "        })();\n",
              "      </script>\n",
              "    </div>\n",
              "\n",
              "    </div>\n",
              "  </div>\n"
            ],
            "application/vnd.google.colaboratory.intrinsic+json": {
              "type": "dataframe",
              "variable_name": "df",
              "summary": "{\n  \"name\": \"df\",\n  \"rows\": 274,\n  \"fields\": [\n    {\n      \"column\": \"ID\",\n      \"properties\": {\n        \"dtype\": \"number\",\n        \"std\": 39,\n        \"min\": 1,\n        \"max\": 137,\n        \"num_unique_values\": 137,\n        \"samples\": [\n          106,\n          105,\n          13\n        ],\n        \"semantic_type\": \"\",\n        \"description\": \"\"\n      }\n    },\n    {\n      \"column\": \"TIME\",\n      \"properties\": {\n        \"dtype\": \"number\",\n        \"std\": 126,\n        \"min\": 0,\n        \"max\": 999,\n        \"num_unique_values\": 102,\n        \"samples\": [\n          21,\n          991,\n          999\n        ],\n        \"semantic_type\": \"\",\n        \"description\": \"\"\n      }\n    },\n    {\n      \"column\": \"Y\",\n      \"properties\": {\n        \"dtype\": \"number\",\n        \"std\": 0,\n        \"min\": 0,\n        \"max\": 1,\n        \"num_unique_values\": 2,\n        \"samples\": [\n          1,\n          0\n        ],\n        \"semantic_type\": \"\",\n        \"description\": \"\"\n      }\n    },\n    {\n      \"column\": \"trt\",\n      \"properties\": {\n        \"dtype\": \"category\",\n        \"num_unique_values\": 2,\n        \"samples\": [\n          \"test\",\n          \"standard\"\n        ],\n        \"semantic_type\": \"\",\n        \"description\": \"\"\n      }\n    },\n    {\n      \"column\": \"celltype\",\n      \"properties\": {\n        \"dtype\": \"category\",\n        \"num_unique_values\": 4,\n        \"samples\": [\n          \"smallcell\",\n          \"large\"\n        ],\n        \"semantic_type\": \"\",\n        \"description\": \"\"\n      }\n    },\n    {\n      \"column\": \"karno\",\n      \"properties\": {\n        \"dtype\": \"number\",\n        \"std\": 20,\n        \"min\": 10,\n        \"max\": 99,\n        \"num_unique_values\": 12,\n        \"samples\": [\n          99,\n          85\n        ],\n        \"semantic_type\": \"\",\n        \"description\": \"\"\n      }\n    },\n    {\n      \"column\": \"diagtime\",\n      \"properties\": {\n        \"dtype\": \"number\",\n        \"std\": 10,\n        \"min\": 1,\n        \"max\": 87,\n        \"num_unique_values\": 28,\n        \"samples\": [\n          4,\n          22\n        ],\n        \"semantic_type\": \"\",\n        \"description\": \"\"\n      }\n    },\n    {\n      \"column\": \"age\",\n      \"properties\": {\n        \"dtype\": \"number\",\n        \"std\": 10,\n        \"min\": 34,\n        \"max\": 81,\n        \"num_unique_values\": 40,\n        \"samples\": [\n          53,\n          55\n        ],\n        \"semantic_type\": \"\",\n        \"description\": \"\"\n      }\n    },\n    {\n      \"column\": \"priortherapy\",\n      \"properties\": {\n        \"dtype\": \"category\",\n        \"num_unique_values\": 2,\n        \"samples\": [\n          \"yes\",\n          \"no\"\n        ],\n        \"semantic_type\": \"\",\n        \"description\": \"\"\n      }\n    }\n  ]\n}"
            }
          },
          "metadata": {},
          "execution_count": 4
        }
      ]
    },
    {
      "cell_type": "markdown",
      "source": [
        "## Kaplan-Meier Method"
      ],
      "metadata": {
        "id": "Ex5874rIYai4"
      }
    },
    {
      "cell_type": "markdown",
      "source": [
        "The Kaplan-Meier method shows how long people stay free from an event (like death) over time. It creates a step-like survival curve and can handle cases where some people drop out or don’t experience the event. It’s useful for comparing treatments.\n",
        "\n",
        "The `KaplanMeierFitter` is used to build this survival model. It filters the data to include only patients with `Y == 1`, fits the model using time and status, and then plots the survival curve.\n"
      ],
      "metadata": {
        "id": "4d1v5MXiP9Am"
      }
    },
    {
      "cell_type": "code",
      "source": [
        "kmf=KaplanMeierFitter()\n",
        "#separate your event(y=1 or y=0)\n",
        "df_event=df[df['Y']==1]\n",
        "\n",
        "#for overall patient curve\n",
        "kmf.fit(durations=df_event['TIME'],event_observed=df_event['Y'])\n",
        "kmf.plot_survival_function()\n",
        "plt.title('Overall Patient curve')\n",
        "plt.show()"
      ],
      "metadata": {
        "id": "yFPIerA5eI5a",
        "colab": {
          "base_uri": "https://localhost:8080/",
          "height": 472
        },
        "outputId": "e76c4ffb-41db-42e4-d6a0-4472bf41b870"
      },
      "execution_count": null,
      "outputs": [
        {
          "output_type": "display_data",
          "data": {
            "text/plain": [
              "<Figure size 640x480 with 1 Axes>"
            ],
            "image/png": "[encoded data removed]"
          },
          "metadata": {}
        }
      ]
    },
    {
      "cell_type": "markdown",
      "source": [
        "This compares survival curves for different treatment groups. It loops through each unique treatment, filters the data for that group, fits a Kaplan-Meier curve, and plots them together. This helps visually compare how effective each treatment is over time."
      ],
      "metadata": {
        "id": "7jzIWsxXQIPY"
      }
    },
    {
      "cell_type": "code",
      "source": [
        "#curve according to treatment group\n",
        "for trt_group in df_event['trt'].unique():\n",
        "  mask=df_event['trt']==trt_group\n",
        "  kmf.fit(df_event[mask]['TIME'],df_event[mask]['Y'],label=trt_group)\n",
        "  kmf.plot_survival_function()\n",
        "plt.title('Treatment group curve')\n",
        "plt.show()"
      ],
      "metadata": {
        "colab": {
          "base_uri": "https://localhost:8080/",
          "height": 472
        },
        "id": "udOueMcVbL_r",
        "outputId": "6a9814ee-8871-481e-a597-3088800550a7"
      },
      "execution_count": null,
      "outputs": [
        {
          "output_type": "display_data",
          "data": {
            "text/plain": [
              "<Figure size 640x480 with 1 Axes>"
            ],
            "image/png": "[encoded data removed]"
          },
          "metadata": {}
        }
      ]
    },
    {
      "cell_type": "markdown",
      "source": [
        "## Median Survival Time"
      ],
      "metadata": {
        "id": "Icxvtd1-bcKa"
      }
    },
    {
      "cell_type": "markdown",
      "source": [
        "The median survival time is the time at which half the patients have experienced the event (e.g., death). It’s taken from the Kaplan-Meier curve and shows how long patients typically stay event-free. A longer median survival time means better treatment effectiveness.\n",
        "\n",
        "The code calculates and prints the median survival time for each treatment group by fitting a Kaplan-Meier model to each group and retrieving the median time from the model.\n"
      ],
      "metadata": {
        "id": "ChJdSKn2QTW6"
      }
    },
    {
      "cell_type": "code",
      "source": [
        "for trt_group in df_event['trt'].unique():\n",
        "  mask=df_event['trt']==trt_group\n",
        "  kmf.fit(df_event[mask]['TIME'],df_event[mask]['Y'],label=str(trt_group)+'median='+str(np.median(df_event[mask]['TIME'])))\n",
        "  print(f\"Median survival time for {trt_group} is {np.median(df_event[mask]['TIME'])}\")"
      ],
      "metadata": {
        "colab": {
          "base_uri": "https://localhost:8080/"
        },
        "id": "YStOmKbybOqv",
        "outputId": "533553e5-4d56-4b09-e4ed-d43ce738099b"
      },
      "execution_count": null,
      "outputs": [
        {
          "output_type": "stream",
          "name": "stdout",
          "text": [
            "Median survival time for standard is 93.5\n",
            "Median survival time for test is 51.5\n"
          ]
        }
      ]
    },
    {
      "cell_type": "markdown",
      "source": [
        "## Log-Rank Test"
      ],
      "metadata": {
        "id": "jatTNVPsbtiM"
      }
    },
    {
      "cell_type": "markdown",
      "source": [
        "The log-rank test compares survival times between groups, like different treatments, to see if there's a real difference in outcomes. A small p-value means the difference is significant, helping to identify the better treatment.\n",
        "\n",
        "In this case, the log-rank test compares two groups: **\"standard\"** and **\"test\"**. It filters the data for each group and uses the `logrank_test()` function. The results, including the p-value, are printed to show if the survival difference between treatments is statistically meaningful."
      ],
      "metadata": {
        "id": "91zhMWr1Qlia"
      }
    },
    {
      "cell_type": "code",
      "source": [
        "from lifelines.statistics import logrank_test\n",
        "group1=df_event[df_event['trt']=='standard']\n",
        "group2=df_event[df_event['trt']=='test']\n",
        "results=logrank_test(group1['TIME'],group2['TIME'],event_observed_A=group1['Y'],event_observed_B=group2['Y'])\n",
        "print(results.summary)"
      ],
      "metadata": {
        "colab": {
          "base_uri": "https://localhost:8080/"
        },
        "id": "zn0X_acBbfOV",
        "outputId": "2d4d8dfc-df28-4ec7-fc67-8e231cd1158c"
      },
      "execution_count": null,
      "outputs": [
        {
          "output_type": "stream",
          "name": "stdout",
          "text": [
            "   test_statistic        p  -log2(p)\n",
            "0          0.0116  0.91423  0.129371\n"
          ]
        }
      ]
    },
    {
      "cell_type": "markdown",
      "source": [
        "## Cox Proportional Hazards model"
      ],
      "metadata": {
        "id": "iLMGQTIMbz_5"
      }
    },
    {
      "cell_type": "markdown",
      "source": [
        "The Cox Proportional Hazards Model is a popular method in survival analysis used to study how multiple factors affect survival time.\n",
        "\n",
        "To prepare for Cox regression, the data is first filtered and copied. Then, categorical variables like **treatment (trt)**, **cell type**, and **prior therapy** are converted into dummy variables using encoding. This step is essential because regression models require numeric input."
      ],
      "metadata": {
        "id": "al76I1IiQ441"
      }
    },
    {
      "cell_type": "code",
      "source": [
        "from lifelines import CoxPHFitter\n",
        "#prepare wide-formate data: one row per subject\n",
        "df_wide=df_event.copy()\n",
        "#Encode categorical variables\n",
        "df_wide=pd.get_dummies(df_wide,columns=['trt','celltype','priortherapy'],drop_first=True)"
      ],
      "metadata": {
        "id": "OqXvHPOzbxgv"
      },
      "execution_count": null,
      "outputs": []
    },
    {
      "cell_type": "markdown",
      "source": [
        "Now, the Cox Proportional Hazards model is fitted using the prepared data. It uses **TIME** as the duration and **Y** as the event indicator. After training, the model prints a summary showing hazard ratios and the significance of each variable. Finally, it uses `plot()` to visualize the hazard ratios—values >1 mean higher risk, while values <1 mean lower risk of the event."
      ],
      "metadata": {
        "id": "G1oi_jYGRFF7"
      }
    },
    {
      "cell_type": "code",
      "source": [
        "cph=CoxPHFitter()\n",
        "cph.fit(df_wide,duration_col='TIME',event_col='Y')\n",
        "cph.print_summary()\n",
        "cph.plot()\n",
        "plt.show()\n",
        "#if hazard score is >1 then higher risk and <1 less risk"
      ],
      "metadata": {
        "colab": {
          "base_uri": "https://localhost:8080/",
          "height": 1000
        },
        "id": "JH8Xk3CDb2L1",
        "outputId": "f80f585f-5aa1-4286-9868-38bdd6189e5a"
      },
      "execution_count": null,
      "outputs": [
        {
          "output_type": "display_data",
          "data": {
            "text/plain": [
              "<lifelines.CoxPHFitter: fitted with 128 total observations, 0 right-censored observations>\n",
              "             duration col = 'TIME'\n",
              "                event col = 'Y'\n",
              "      baseline estimation = breslow\n",
              "   number of observations = 128\n",
              "number of events observed = 128\n",
              "   partial log-likelihood = -465.21\n",
              "         time fit was run = 2025-05-30 04:38:17 UTC\n",
              "\n",
              "---\n",
              "                    coef exp(coef)  se(coef)  coef lower 95%  coef upper 95% exp(coef) lower 95% exp(coef) upper 95%\n",
              "covariate                                                                                                           \n",
              "ID                  0.00      1.00      0.01           -0.03            0.03                0.97                1.03\n",
              "karno              -0.03      0.97      0.01           -0.05           -0.02                0.96                0.98\n",
              "diagtime           -0.00      1.00      0.01           -0.02            0.01                0.98                1.01\n",
              "age                -0.01      0.99      0.01           -0.03            0.00                0.97                1.00\n",
              "trt_test            0.16      1.17      1.02           -1.84            2.16                0.16                8.63\n",
              "celltype_large     -0.83      0.43      0.36           -1.53           -0.14                0.22                0.87\n",
              "celltype_smallcell -0.12      0.88      0.38           -0.88            0.63                0.42                1.88\n",
              "celltype_squamous  -0.97      0.38      0.66           -2.27            0.33                0.10                1.38\n",
              "priortherapy_yes    0.18      1.20      0.24           -0.28            0.65                0.76                1.91\n",
              "\n",
              "                    cmp to     z      p  -log2(p)\n",
              "covariate                                        \n",
              "ID                    0.00  0.20   0.84      0.25\n",
              "karno                 0.00 -6.08 <0.005     29.60\n",
              "diagtime              0.00 -0.47   0.63      0.66\n",
              "age                   0.00 -1.54   0.12      3.02\n",
              "trt_test              0.00  0.16   0.88      0.19\n",
              "celltype_large        0.00 -2.34   0.02      5.71\n",
              "celltype_smallcell    0.00 -0.32   0.75      0.42\n",
              "celltype_squamous     0.00 -1.47   0.14      2.82\n",
              "priortherapy_yes      0.00  0.79   0.43      1.21\n",
              "---\n",
              "Concordance = 0.74\n",
              "Partial AIC = 948.43\n",
              "log-likelihood ratio test = 62.38 on 9 df\n",
              "-log2(p) of ll-ratio test = 31.00"
            ],
            "text/html": [
              "<div>\n",
              "<style scoped>\n",
              "    .dataframe tbody tr th:only-of-type {\n",
              "        vertical-align: middle;\n",
              "    }\n",
              "\n",
              "    .dataframe tbody tr th {\n",
              "        vertical-align: top;\n",
              "    }\n",
              "\n",
              "    .dataframe thead th {\n",
              "        text-align: right;\n",
              "    }\n",
              "</style>\n",
              "<table border=\"1\" class=\"dataframe\">\n",
              "  <tbody>\n",
              "    <tr>\n",
              "      <th>model</th>\n",
              "      <td>lifelines.CoxPHFitter</td>\n",
              "    </tr>\n",
              "    <tr>\n",
              "      <th>duration col</th>\n",
              "      <td>'TIME'</td>\n",
              "    </tr>\n",
              "    <tr>\n",
              "      <th>event col</th>\n",
              "      <td>'Y'</td>\n",
              "    </tr>\n",
              "    <tr>\n",
              "      <th>baseline estimation</th>\n",
              "      <td>breslow</td>\n",
              "    </tr>\n",
              "    <tr>\n",
              "      <th>number of observations</th>\n",
              "      <td>128</td>\n",
              "    </tr>\n",
              "    <tr>\n",
              "      <th>number of events observed</th>\n",
              "      <td>128</td>\n",
              "    </tr>\n",
              "    <tr>\n",
              "      <th>partial log-likelihood</th>\n",
              "      <td>-465.21</td>\n",
              "    </tr>\n",
              "    <tr>\n",
              "      <th>time fit was run</th>\n",
              "      <td>2025-05-30 04:38:17 UTC</td>\n",
              "    </tr>\n",
              "  </tbody>\n",
              "</table>\n",
              "</div><table border=\"1\" class=\"dataframe\">\n",
              "  <thead>\n",
              "    <tr style=\"text-align: right;\">\n",
              "      <th style=\"min-width: 12px;\"></th>\n",
              "      <th style=\"min-width: 12px;\">coef</th>\n",
              "      <th style=\"min-width: 12px;\">exp(coef)</th>\n",
              "      <th style=\"min-width: 12px;\">se(coef)</th>\n",
              "      <th style=\"min-width: 12px;\">coef lower 95%</th>\n",
              "      <th style=\"min-width: 12px;\">coef upper 95%</th>\n",
              "      <th style=\"min-width: 12px;\">exp(coef) lower 95%</th>\n",
              "      <th style=\"min-width: 12px;\">exp(coef) upper 95%</th>\n",
              "      <th style=\"min-width: 12px;\">cmp to</th>\n",
              "      <th style=\"min-width: 12px;\">z</th>\n",
              "      <th style=\"min-width: 12px;\">p</th>\n",
              "      <th style=\"min-width: 12px;\">-log2(p)</th>\n",
              "    </tr>\n",
              "  </thead>\n",
              "  <tbody>\n",
              "    <tr>\n",
              "      <th>ID</th>\n",
              "      <td>0.00</td>\n",
              "      <td>1.00</td>\n",
              "      <td>0.01</td>\n",
              "      <td>-0.03</td>\n",
              "      <td>0.03</td>\n",
              "      <td>0.97</td>\n",
              "      <td>1.03</td>\n",
              "      <td>0.00</td>\n",
              "      <td>0.20</td>\n",
              "      <td>0.84</td>\n",
              "      <td>0.25</td>\n",
              "    </tr>\n",
              "    <tr>\n",
              "      <th>karno</th>\n",
              "      <td>-0.03</td>\n",
              "      <td>0.97</td>\n",
              "      <td>0.01</td>\n",
              "      <td>-0.05</td>\n",
              "      <td>-0.02</td>\n",
              "      <td>0.96</td>\n",
              "      <td>0.98</td>\n",
              "      <td>0.00</td>\n",
              "      <td>-6.08</td>\n",
              "      <td>&lt;0.005</td>\n",
              "      <td>29.60</td>\n",
              "    </tr>\n",
              "    <tr>\n",
              "      <th>diagtime</th>\n",
              "      <td>-0.00</td>\n",
              "      <td>1.00</td>\n",
              "      <td>0.01</td>\n",
              "      <td>-0.02</td>\n",
              "      <td>0.01</td>\n",
              "      <td>0.98</td>\n",
              "      <td>1.01</td>\n",
              "      <td>0.00</td>\n",
              "      <td>-0.47</td>\n",
              "      <td>0.63</td>\n",
              "      <td>0.66</td>\n",
              "    </tr>\n",
              "    <tr>\n",
              "      <th>age</th>\n",
              "      <td>-0.01</td>\n",
              "      <td>0.99</td>\n",
              "      <td>0.01</td>\n",
              "      <td>-0.03</td>\n",
              "      <td>0.00</td>\n",
              "      <td>0.97</td>\n",
              "      <td>1.00</td>\n",
              "      <td>0.00</td>\n",
              "      <td>-1.54</td>\n",
              "      <td>0.12</td>\n",
              "      <td>3.02</td>\n",
              "    </tr>\n",
              "    <tr>\n",
              "      <th>trt_test</th>\n",
              "      <td>0.16</td>\n",
              "      <td>1.17</td>\n",
              "      <td>1.02</td>\n",
              "      <td>-1.84</td>\n",
              "      <td>2.16</td>\n",
              "      <td>0.16</td>\n",
              "      <td>8.63</td>\n",
              "      <td>0.00</td>\n",
              "      <td>0.16</td>\n",
              "      <td>0.88</td>\n",
              "      <td>0.19</td>\n",
              "    </tr>\n",
              "    <tr>\n",
              "      <th>celltype_large</th>\n",
              "      <td>-0.83</td>\n",
              "      <td>0.43</td>\n",
              "      <td>0.36</td>\n",
              "      <td>-1.53</td>\n",
              "      <td>-0.14</td>\n",
              "      <td>0.22</td>\n",
              "      <td>0.87</td>\n",
              "      <td>0.00</td>\n",
              "      <td>-2.34</td>\n",
              "      <td>0.02</td>\n",
              "      <td>5.71</td>\n",
              "    </tr>\n",
              "    <tr>\n",
              "      <th>celltype_smallcell</th>\n",
              "      <td>-0.12</td>\n",
              "      <td>0.88</td>\n",
              "      <td>0.38</td>\n",
              "      <td>-0.88</td>\n",
              "      <td>0.63</td>\n",
              "      <td>0.42</td>\n",
              "      <td>1.88</td>\n",
              "      <td>0.00</td>\n",
              "      <td>-0.32</td>\n",
              "      <td>0.75</td>\n",
              "      <td>0.42</td>\n",
              "    </tr>\n",
              "    <tr>\n",
              "      <th>celltype_squamous</th>\n",
              "      <td>-0.97</td>\n",
              "      <td>0.38</td>\n",
              "      <td>0.66</td>\n",
              "      <td>-2.27</td>\n",
              "      <td>0.33</td>\n",
              "      <td>0.10</td>\n",
              "      <td>1.38</td>\n",
              "      <td>0.00</td>\n",
              "      <td>-1.47</td>\n",
              "      <td>0.14</td>\n",
              "      <td>2.82</td>\n",
              "    </tr>\n",
              "    <tr>\n",
              "      <th>priortherapy_yes</th>\n",
              "      <td>0.18</td>\n",
              "      <td>1.20</td>\n",
              "      <td>0.24</td>\n",
              "      <td>-0.28</td>\n",
              "      <td>0.65</td>\n",
              "      <td>0.76</td>\n",
              "      <td>1.91</td>\n",
              "      <td>0.00</td>\n",
              "      <td>0.79</td>\n",
              "      <td>0.43</td>\n",
              "      <td>1.21</td>\n",
              "    </tr>\n",
              "  </tbody>\n",
              "</table><br><div>\n",
              "<style scoped>\n",
              "    .dataframe tbody tr th:only-of-type {\n",
              "        vertical-align: middle;\n",
              "    }\n",
              "\n",
              "    .dataframe tbody tr th {\n",
              "        vertical-align: top;\n",
              "    }\n",
              "\n",
              "    .dataframe thead th {\n",
              "        text-align: right;\n",
              "    }\n",
              "</style>\n",
              "<table border=\"1\" class=\"dataframe\">\n",
              "  <tbody>\n",
              "    <tr>\n",
              "      <th>Concordance</th>\n",
              "      <td>0.74</td>\n",
              "    </tr>\n",
              "    <tr>\n",
              "      <th>Partial AIC</th>\n",
              "      <td>948.43</td>\n",
              "    </tr>\n",
              "    <tr>\n",
              "      <th>log-likelihood ratio test</th>\n",
              "      <td>62.38 on 9 df</td>\n",
              "    </tr>\n",
              "    <tr>\n",
              "      <th>-log2(p) of ll-ratio test</th>\n",
              "      <td>31.00</td>\n",
              "    </tr>\n",
              "  </tbody>\n",
              "</table>\n",
              "</div>"
            ],
            "text/latex": "\\begin{tabular}{lrrrrrrrrrrr}\n & coef & exp(coef) & se(coef) & coef lower 95% & coef upper 95% & exp(coef) lower 95% & exp(coef) upper 95% & cmp to & z & p & -log2(p) \\\\\ncovariate &  &  &  &  &  &  &  &  &  &  &  \\\\\nID & 0.00 & 1.00 & 0.01 & -0.03 & 0.03 & 0.97 & 1.03 & 0.00 & 0.20 & 0.84 & 0.25 \\\\\nkarno & -0.03 & 0.97 & 0.01 & -0.05 & -0.02 & 0.96 & 0.98 & 0.00 & -6.08 & 0.00 & 29.60 \\\\\ndiagtime & -0.00 & 1.00 & 0.01 & -0.02 & 0.01 & 0.98 & 1.01 & 0.00 & -0.47 & 0.63 & 0.66 \\\\\nage & -0.01 & 0.99 & 0.01 & -0.03 & 0.00 & 0.97 & 1.00 & 0.00 & -1.54 & 0.12 & 3.02 \\\\\ntrt_test & 0.16 & 1.17 & 1.02 & -1.84 & 2.16 & 0.16 & 8.63 & 0.00 & 0.16 & 0.88 & 0.19 \\\\\ncelltype_large & -0.83 & 0.43 & 0.36 & -1.53 & -0.14 & 0.22 & 0.87 & 0.00 & -2.34 & 0.02 & 5.71 \\\\\ncelltype_smallcell & -0.12 & 0.88 & 0.38 & -0.88 & 0.63 & 0.42 & 1.88 & 0.00 & -0.32 & 0.75 & 0.42 \\\\\ncelltype_squamous & -0.97 & 0.38 & 0.66 & -2.27 & 0.33 & 0.10 & 1.38 & 0.00 & -1.47 & 0.14 & 2.82 \\\\\npriortherapy_yes & 0.18 & 1.20 & 0.24 & -0.28 & 0.65 & 0.76 & 1.91 & 0.00 & 0.79 & 0.43 & 1.21 \\\\\n\\end{tabular}\n"
          },
          "metadata": {}
        },
        {
          "output_type": "display_data",
          "data": {
            "text/plain": [
              "<Figure size 640x480 with 1 Axes>"
            ],
            "image/png": "[encoded data removed]"
          },
          "metadata": {}
        }
      ]
    },
    {
      "cell_type": "markdown",
      "source": [
        "### time varying survival analysis"
      ],
      "metadata": {
        "id": "yQUpk2QZgSSV"
      }
    },
    {
      "cell_type": "markdown",
      "source": [
        "Time-varying survival analysis is used when factors like treatment or health status change over time. It gives a more accurate view of how these changes impact survival.\n",
        "\n",
        "The code splits the data into start and event records, renames columns to show time intervals (`start`, `stop`), and merges them by patient ID. Then it encodes categorical variables and shows a preview of the main columns for analysis."
      ],
      "metadata": {
        "id": "cyzIa1DzRKdx"
      }
    },
    {
      "cell_type": "code",
      "source": [
        "#step 1 seprate rows\n",
        "df_start=df[df[\"Y\"]==0].copy()\n",
        "df_event=df[df[\"Y\"]==1].copy()\n",
        "\n",
        "#merge & change column name\n",
        "df_event=df_event.rename(columns={\"TIME\":\"stop\",\"Y\":\"event\"})\n",
        "df_start=df_start.rename(columns={\"TIME\":\"start\"})\n",
        "\n",
        "df_timevarying=pd.merge(df_start,df_event[[\"ID\",\"stop\",\"event\"]],on=\"ID\")\n",
        "\n",
        "# one-hot encoding\n",
        "df_timevarying = pd.get_dummies(df_timevarying, columns=['trt','celltype' ,'priortherapy'], drop_first=True)\n",
        "\n",
        "# Final check\n",
        "print(df_timevarying[['ID', 'start', 'stop', 'event']].head())"
      ],
      "metadata": {
        "colab": {
          "base_uri": "https://localhost:8080/"
        },
        "id": "tsoKd7Ncd5_-",
        "outputId": "57088c8d-7502-40ac-9efb-6339ef65a4a4"
      },
      "execution_count": null,
      "outputs": [
        {
          "output_type": "stream",
          "name": "stdout",
          "text": [
            "   ID  start  stop  event\n",
            "0   1      0    72      1\n",
            "1   2      0   411      1\n",
            "2   3      0   228      1\n",
            "3   4      0   126      1\n",
            "4   5      0   118      1\n"
          ]
        }
      ]
    },
    {
      "cell_type": "code",
      "source": [
        "#check there is null value\n",
        "print(df_timevarying.isnull().sum())\n",
        "#ensure y is not in the modeling data\n",
        "if 'Y' in df_timevarying.columns:\n",
        "   df_timevarying.drop(columns=['Y'],inplace=True)"
      ],
      "metadata": {
        "colab": {
          "base_uri": "https://localhost:8080/"
        },
        "id": "gVTfQgxvnAqB",
        "outputId": "cdb50070-4b31-4bf8-846b-e208e4bc404c"
      },
      "execution_count": null,
      "outputs": [
        {
          "output_type": "stream",
          "name": "stdout",
          "text": [
            "ID                    0\n",
            "start                 0\n",
            "Y                     0\n",
            "karno                 0\n",
            "diagtime              0\n",
            "age                   0\n",
            "stop                  0\n",
            "event                 0\n",
            "trt_test              0\n",
            "celltype_large        0\n",
            "celltype_smallcell    0\n",
            "celltype_squamous     0\n",
            "priortherapy_yes      0\n",
            "dtype: int64\n"
          ]
        }
      ]
    },
    {
      "cell_type": "markdown",
      "source": [
        "## cox time-varying coefficient\n",
        "\n"
      ],
      "metadata": {
        "id": "7QNoZP7rxkn7"
      }
    },
    {
      "cell_type": "markdown",
      "source": [
        "The Cox Time-Varying Coefficient Model helps analyze how the effects of variables change over time.\n",
        "\n",
        "It uses `CoxTimeVaryingFitter` to fit the model with patient ID, event status, and time intervals (`start`, `stop`). After fitting, it shows the model summary and plots the coefficients to understand how the impact of each variable changes during the observation period."
      ],
      "metadata": {
        "id": "BvXn1nIuRjrn"
      }
    },
    {
      "cell_type": "code",
      "source": [
        "from lifelines import CoxTimeVaryingFitter\n",
        "ctv=CoxTimeVaryingFitter()\n",
        "ctv.fit(df_timevarying,id_col='ID',event_col='event',start_col='start',stop_col='stop')\n",
        "ctv.print_summary()\n",
        "ctv.plot()\n",
        "plt.show()"
      ],
      "metadata": {
        "colab": {
          "base_uri": "https://localhost:8080/",
          "height": 1000
        },
        "id": "hA0phFc4wX01",
        "outputId": "d302a3ae-5a2e-49c4-bbc0-1e7a922fb54c"
      },
      "execution_count": null,
      "outputs": [
        {
          "output_type": "display_data",
          "data": {
            "text/plain": [
              "<lifelines.CoxTimeVaryingFitter: fitted with 128 periods, 128 subjects, 128 events>\n",
              "         event col = 'event'\n",
              "number of subjects = 128\n",
              " number of periods = 128\n",
              "  number of events = 128\n",
              "partial log-likelihood = -465.24\n",
              "  time fit was run = 2025-05-30 04:38:18 UTC\n",
              "\n",
              "---\n",
              "                    coef exp(coef)  se(coef)  coef lower 95%  coef upper 95% exp(coef) lower 95% exp(coef) upper 95%\n",
              "covariate                                                                                                           \n",
              "karno              -0.03      0.97      0.01           -0.05           -0.02                0.96                0.98\n",
              "diagtime           -0.00      1.00      0.01           -0.02            0.01                0.98                1.01\n",
              "age                -0.01      0.99      0.01           -0.03            0.00                0.97                1.00\n",
              "trt_test            0.36      1.44      0.21           -0.05            0.77                0.95                2.17\n",
              "celltype_large     -0.80      0.45      0.30           -1.38           -0.21                0.25                0.81\n",
              "celltype_smallcell -0.18      0.84      0.28           -0.72            0.36                0.49                1.44\n",
              "celltype_squamous  -1.10      0.33      0.30           -1.68           -0.51                0.19                0.60\n",
              "priortherapy_yes    0.18      1.19      0.23           -0.28            0.63                0.76                1.88\n",
              "\n",
              "                    cmp to     z      p  -log2(p)\n",
              "covariate                                        \n",
              "karno                 0.00 -6.07 <0.005     29.52\n",
              "diagtime              0.00 -0.45   0.65      0.61\n",
              "age                   0.00 -1.53   0.12      3.00\n",
              "trt_test              0.00  1.72   0.08      3.56\n",
              "celltype_large        0.00 -2.65   0.01      6.95\n",
              "celltype_smallcell    0.00 -0.65   0.52      0.96\n",
              "celltype_squamous     0.00 -3.66 <0.005     11.94\n",
              "priortherapy_yes      0.00  0.76   0.45      1.17\n",
              "---\n",
              "Partial AIC = 946.47\n",
              "log-likelihood ratio test = 62.34 on 8 df\n",
              "-log2(p) of ll-ratio test = 32.53"
            ],
            "text/html": [
              "<div>\n",
              "<style scoped>\n",
              "    .dataframe tbody tr th:only-of-type {\n",
              "        vertical-align: middle;\n",
              "    }\n",
              "\n",
              "    .dataframe tbody tr th {\n",
              "        vertical-align: top;\n",
              "    }\n",
              "\n",
              "    .dataframe thead th {\n",
              "        text-align: right;\n",
              "    }\n",
              "</style>\n",
              "<table border=\"1\" class=\"dataframe\">\n",
              "  <tbody>\n",
              "    <tr>\n",
              "      <th>model</th>\n",
              "      <td>lifelines.CoxTimeVaryingFitter</td>\n",
              "    </tr>\n",
              "    <tr>\n",
              "      <th>event col</th>\n",
              "      <td>'event'</td>\n",
              "    </tr>\n",
              "    <tr>\n",
              "      <th>number of subjects</th>\n",
              "      <td>128</td>\n",
              "    </tr>\n",
              "    <tr>\n",
              "      <th>number of periods</th>\n",
              "      <td>128</td>\n",
              "    </tr>\n",
              "    <tr>\n",
              "      <th>number of events</th>\n",
              "      <td>128</td>\n",
              "    </tr>\n",
              "    <tr>\n",
              "      <th>partial log-likelihood</th>\n",
              "      <td>-465.24</td>\n",
              "    </tr>\n",
              "    <tr>\n",
              "      <th>time fit was run</th>\n",
              "      <td>2025-05-30 04:38:18 UTC</td>\n",
              "    </tr>\n",
              "  </tbody>\n",
              "</table>\n",
              "</div><table border=\"1\" class=\"dataframe\">\n",
              "  <thead>\n",
              "    <tr style=\"text-align: right;\">\n",
              "      <th style=\"min-width: 12px;\"></th>\n",
              "      <th style=\"min-width: 12px;\">coef</th>\n",
              "      <th style=\"min-width: 12px;\">exp(coef)</th>\n",
              "      <th style=\"min-width: 12px;\">se(coef)</th>\n",
              "      <th style=\"min-width: 12px;\">coef lower 95%</th>\n",
              "      <th style=\"min-width: 12px;\">coef upper 95%</th>\n",
              "      <th style=\"min-width: 12px;\">exp(coef) lower 95%</th>\n",
              "      <th style=\"min-width: 12px;\">exp(coef) upper 95%</th>\n",
              "      <th style=\"min-width: 12px;\">cmp to</th>\n",
              "      <th style=\"min-width: 12px;\">z</th>\n",
              "      <th style=\"min-width: 12px;\">p</th>\n",
              "      <th style=\"min-width: 12px;\">-log2(p)</th>\n",
              "    </tr>\n",
              "  </thead>\n",
              "  <tbody>\n",
              "    <tr>\n",
              "      <th>karno</th>\n",
              "      <td>-0.03</td>\n",
              "      <td>0.97</td>\n",
              "      <td>0.01</td>\n",
              "      <td>-0.05</td>\n",
              "      <td>-0.02</td>\n",
              "      <td>0.96</td>\n",
              "      <td>0.98</td>\n",
              "      <td>0.00</td>\n",
              "      <td>-6.07</td>\n",
              "      <td>&lt;0.005</td>\n",
              "      <td>29.52</td>\n",
              "    </tr>\n",
              "    <tr>\n",
              "      <th>diagtime</th>\n",
              "      <td>-0.00</td>\n",
              "      <td>1.00</td>\n",
              "      <td>0.01</td>\n",
              "      <td>-0.02</td>\n",
              "      <td>0.01</td>\n",
              "      <td>0.98</td>\n",
              "      <td>1.01</td>\n",
              "      <td>0.00</td>\n",
              "      <td>-0.45</td>\n",
              "      <td>0.65</td>\n",
              "      <td>0.61</td>\n",
              "    </tr>\n",
              "    <tr>\n",
              "      <th>age</th>\n",
              "      <td>-0.01</td>\n",
              "      <td>0.99</td>\n",
              "      <td>0.01</td>\n",
              "      <td>-0.03</td>\n",
              "      <td>0.00</td>\n",
              "      <td>0.97</td>\n",
              "      <td>1.00</td>\n",
              "      <td>0.00</td>\n",
              "      <td>-1.53</td>\n",
              "      <td>0.12</td>\n",
              "      <td>3.00</td>\n",
              "    </tr>\n",
              "    <tr>\n",
              "      <th>trt_test</th>\n",
              "      <td>0.36</td>\n",
              "      <td>1.44</td>\n",
              "      <td>0.21</td>\n",
              "      <td>-0.05</td>\n",
              "      <td>0.77</td>\n",
              "      <td>0.95</td>\n",
              "      <td>2.17</td>\n",
              "      <td>0.00</td>\n",
              "      <td>1.72</td>\n",
              "      <td>0.08</td>\n",
              "      <td>3.56</td>\n",
              "    </tr>\n",
              "    <tr>\n",
              "      <th>celltype_large</th>\n",
              "      <td>-0.80</td>\n",
              "      <td>0.45</td>\n",
              "      <td>0.30</td>\n",
              "      <td>-1.38</td>\n",
              "      <td>-0.21</td>\n",
              "      <td>0.25</td>\n",
              "      <td>0.81</td>\n",
              "      <td>0.00</td>\n",
              "      <td>-2.65</td>\n",
              "      <td>0.01</td>\n",
              "      <td>6.95</td>\n",
              "    </tr>\n",
              "    <tr>\n",
              "      <th>celltype_smallcell</th>\n",
              "      <td>-0.18</td>\n",
              "      <td>0.84</td>\n",
              "      <td>0.28</td>\n",
              "      <td>-0.72</td>\n",
              "      <td>0.36</td>\n",
              "      <td>0.49</td>\n",
              "      <td>1.44</td>\n",
              "      <td>0.00</td>\n",
              "      <td>-0.65</td>\n",
              "      <td>0.52</td>\n",
              "      <td>0.96</td>\n",
              "    </tr>\n",
              "    <tr>\n",
              "      <th>celltype_squamous</th>\n",
              "      <td>-1.10</td>\n",
              "      <td>0.33</td>\n",
              "      <td>0.30</td>\n",
              "      <td>-1.68</td>\n",
              "      <td>-0.51</td>\n",
              "      <td>0.19</td>\n",
              "      <td>0.60</td>\n",
              "      <td>0.00</td>\n",
              "      <td>-3.66</td>\n",
              "      <td>&lt;0.005</td>\n",
              "      <td>11.94</td>\n",
              "    </tr>\n",
              "    <tr>\n",
              "      <th>priortherapy_yes</th>\n",
              "      <td>0.18</td>\n",
              "      <td>1.19</td>\n",
              "      <td>0.23</td>\n",
              "      <td>-0.28</td>\n",
              "      <td>0.63</td>\n",
              "      <td>0.76</td>\n",
              "      <td>1.88</td>\n",
              "      <td>0.00</td>\n",
              "      <td>0.76</td>\n",
              "      <td>0.45</td>\n",
              "      <td>1.17</td>\n",
              "    </tr>\n",
              "  </tbody>\n",
              "</table><br><div>\n",
              "<style scoped>\n",
              "    .dataframe tbody tr th:only-of-type {\n",
              "        vertical-align: middle;\n",
              "    }\n",
              "\n",
              "    .dataframe tbody tr th {\n",
              "        vertical-align: top;\n",
              "    }\n",
              "\n",
              "    .dataframe thead th {\n",
              "        text-align: right;\n",
              "    }\n",
              "</style>\n",
              "<table border=\"1\" class=\"dataframe\">\n",
              "  <tbody>\n",
              "    <tr>\n",
              "      <th>Partial AIC</th>\n",
              "      <td>946.47</td>\n",
              "    </tr>\n",
              "    <tr>\n",
              "      <th>log-likelihood ratio test</th>\n",
              "      <td>62.34 on 8 df</td>\n",
              "    </tr>\n",
              "    <tr>\n",
              "      <th>-log2(p) of ll-ratio test</th>\n",
              "      <td>32.53</td>\n",
              "    </tr>\n",
              "  </tbody>\n",
              "</table>\n",
              "</div>"
            ],
            "text/latex": "\\begin{tabular}{lrrrrrrrrrrr}\n & coef & exp(coef) & se(coef) & coef lower 95% & coef upper 95% & exp(coef) lower 95% & exp(coef) upper 95% & cmp to & z & p & -log2(p) \\\\\ncovariate &  &  &  &  &  &  &  &  &  &  &  \\\\\nkarno & -0.03 & 0.97 & 0.01 & -0.05 & -0.02 & 0.96 & 0.98 & 0.00 & -6.07 & 0.00 & 29.52 \\\\\ndiagtime & -0.00 & 1.00 & 0.01 & -0.02 & 0.01 & 0.98 & 1.01 & 0.00 & -0.45 & 0.65 & 0.61 \\\\\nage & -0.01 & 0.99 & 0.01 & -0.03 & 0.00 & 0.97 & 1.00 & 0.00 & -1.53 & 0.12 & 3.00 \\\\\ntrt_test & 0.36 & 1.44 & 0.21 & -0.05 & 0.77 & 0.95 & 2.17 & 0.00 & 1.72 & 0.08 & 3.56 \\\\\ncelltype_large & -0.80 & 0.45 & 0.30 & -1.38 & -0.21 & 0.25 & 0.81 & 0.00 & -2.65 & 0.01 & 6.95 \\\\\ncelltype_smallcell & -0.18 & 0.84 & 0.28 & -0.72 & 0.36 & 0.49 & 1.44 & 0.00 & -0.65 & 0.52 & 0.96 \\\\\ncelltype_squamous & -1.10 & 0.33 & 0.30 & -1.68 & -0.51 & 0.19 & 0.60 & 0.00 & -3.66 & 0.00 & 11.94 \\\\\npriortherapy_yes & 0.18 & 1.19 & 0.23 & -0.28 & 0.63 & 0.76 & 1.88 & 0.00 & 0.76 & 0.45 & 1.17 \\\\\n\\end{tabular}\n"
          },
          "metadata": {}
        },
        {
          "output_type": "display_data",
          "data": {
            "text/plain": [
              "<Figure size 640x480 with 1 Axes>"
            ],
            "image/png": "[encoded data removed]"
          },
          "metadata": {}
        }
      ]
    },
    {
      "cell_type": "markdown",
      "source": [
        "### Kaplin-Meier Time varying\n",
        "This creates Kaplan-Meier survival curves to compare survival rates across different cell types.\n",
        "\n",
        "For each unique cell type, it filters the data, fits a Kaplan-Meier model using **TIME** (duration) and **Y** (event status), and plots the survival curves. The graph shows how survival probabilities change over time for each cell type, helping to see which types are linked to better or worse outcomes.\n"
      ],
      "metadata": {
        "id": "bc6NhqHXR3Mu"
      }
    },
    {
      "cell_type": "code",
      "source": [
        "from lifelines import KaplanMeierFitter\n",
        "import matplotlib.pyplot as plt\n",
        "\n",
        "kmf = KaplanMeierFitter()\n",
        "plt.figure(figsize=(10, 6))\n",
        "\n",
        "for group in df['trt']. unique():\n",
        "  label = str(group)\n",
        "  mask = df['trt'] == group\n",
        "  kmf. fit(df[mask] ['TIME' ], event_observed=df[mask] ['Y'], label=label)\n",
        "  kmf.plot_survival_function()\n",
        "\n",
        "plt.title('Survival by Treatment Group')\n",
        "plt.xlabel('Time (days)')\n",
        "plt.ylabel('Survival Probability')\n",
        "plt.grid(True)\n",
        "plt.legend(title=\"Treatment\")\n",
        "plt.show()"
      ],
      "metadata": {
        "colab": {
          "base_uri": "https://localhost:8080/",
          "height": 584
        },
        "id": "Ca_VtHE8ezL0",
        "outputId": "3000fbc5-462e-4ce7-80f4-91d9cfc53726"
      },
      "execution_count": null,
      "outputs": [
        {
          "output_type": "display_data",
          "data": {
            "text/plain": [
              "<Figure size 1000x600 with 1 Axes>"
            ],
            "image/png": "[encoded data removed]"
          },
          "metadata": {}
        }
      ]
    },
    {
      "cell_type": "code",
      "source": [
        "print(df['trt'].value_counts())"
      ],
      "metadata": {
        "colab": {
          "base_uri": "https://localhost:8080/"
        },
        "id": "y__gqynIfBkY",
        "outputId": "450a5b59-e09f-45e8-8709-76124af23f97"
      },
      "execution_count": null,
      "outputs": [
        {
          "output_type": "stream",
          "name": "stdout",
          "text": [
            "trt\n",
            "standard    138\n",
            "test        136\n",
            "Name: count, dtype: int64\n"
          ]
        }
      ]
    },
    {
      "cell_type": "code",
      "source": [
        "from lifelines.statistics import logrank_test\n",
        "\n",
        "# Assuming 'trt' column has two treatment types (e.g., 1 = Standard, 2 = Test)\n",
        "group1 = df[df['trt' ] == 'standard']\n",
        "group2 = df[df['trt' ] == 'test']\n",
        "\n",
        "# Perform the log-rank test using correct event column: 'Y'\n",
        "results = logrank_test(\n",
        "group1[ 'TIME'], group2[ 'TIME' ],\n",
        "event_observed_A=group1[ 'Y'],\n",
        "event_observed_B=group2['Y' ])\n",
        "\n",
        "# Output\n",
        "print(f\"Log-Rank Test p-value: {results.p_value :. 4f}\")\n",
        "\n",
        "if results.p_value < 0.05:\n",
        "  print(\" Significant difference in survival.\")\n",
        "else:\n",
        "  print(\" No statistically significant difference.\")"
      ],
      "metadata": {
        "colab": {
          "base_uri": "https://localhost:8080/",
          "height": 211
        },
        "id": "4Xf-0cAJhVyw",
        "outputId": "6f940441-8494-4a45-f2b9-7930b2dec347"
      },
      "execution_count": null,
      "outputs": [
        {
          "output_type": "error",
          "ename": "ValueError",
          "evalue": "Format specifier missing precision",
          "traceback": [
            "\u001b[0;31m---------------------------------------------------------------------------\u001b[0m",
            "\u001b[0;31mValueError\u001b[0m                                Traceback (most recent call last)",
            "\u001b[0;32m<ipython-input-18-1bdabd81b703>\u001b[0m in \u001b[0;36m<cell line: 0>\u001b[0;34m()\u001b[0m\n\u001b[1;32m     12\u001b[0m \u001b[0;34m\u001b[0m\u001b[0m\n\u001b[1;32m     13\u001b[0m \u001b[0;31m# Output\u001b[0m\u001b[0;34m\u001b[0m\u001b[0;34m\u001b[0m\u001b[0m\n\u001b[0;32m---> 14\u001b[0;31m \u001b[0mprint\u001b[0m\u001b[0;34m(\u001b[0m\u001b[0;34mf\"Log-Rank Test p-value: {results.p_value :. 4f}\"\u001b[0m\u001b[0;34m)\u001b[0m\u001b[0;34m\u001b[0m\u001b[0;34m\u001b[0m\u001b[0m\n\u001b[0m\u001b[1;32m     15\u001b[0m \u001b[0;32mif\u001b[0m \u001b[0mresults\u001b[0m\u001b[0;34m.\u001b[0m\u001b[0mp_value\u001b[0m \u001b[0;34m<\u001b[0m \u001b[0;36m0.05\u001b[0m\u001b[0;34m:\u001b[0m\u001b[0;34m\u001b[0m\u001b[0;34m\u001b[0m\u001b[0m\n\u001b[1;32m     16\u001b[0m   \u001b[0mprint\u001b[0m\u001b[0;34m(\u001b[0m\u001b[0;34m\" Significant difference in survival.\"\u001b[0m\u001b[0;34m)\u001b[0m\u001b[0;34m\u001b[0m\u001b[0;34m\u001b[0m\u001b[0m\n",
            "\u001b[0;31mValueError\u001b[0m: Format specifier missing precision"
          ]
        }
      ]
    },
    {
      "cell_type": "code",
      "source": [],
      "metadata": {
        "id": "9-7jO-u_iKGC"
      },
      "execution_count": null,
      "outputs": []
    }
  ]
}